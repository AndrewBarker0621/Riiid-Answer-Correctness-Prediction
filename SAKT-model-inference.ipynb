{
 "cells": [
  {
   "cell_type": "markdown",
   "metadata": {
    "papermill": {
     "duration": 0.009959,
     "end_time": "2020-12-19T02:02:12.269874",
     "exception": false,
     "start_time": "2020-12-19T02:02:12.259915",
     "status": "completed"
    },
    "tags": []
   },
   "source": [
    "# RIIID - SAKT Model Inference"
   ]
  },
  {
   "cell_type": "markdown",
   "metadata": {
    "papermill": {
     "duration": 0.008179,
     "end_time": "2020-12-19T02:02:12.288188",
     "exception": false,
     "start_time": "2020-12-19T02:02:12.280009",
     "status": "completed"
    },
    "tags": []
   },
   "source": [
    "Public Leaderboard Score: **0.774**\n",
    "\n",
    "#### If you like this kernel or forking this kernel, please consider upvoting this and the kernels I copied (acknowledgements) from. It helps them reach more people.\n",
    "\n",
    "- **Training Notebook**: https://www.kaggle.com/manikanthr5/riiid-sakt-model-training-public\n",
    "- **Pretrained Dataset**: https://www.kaggle.com/manikanthr5/riiid-sakt-model-dataset-public\n",
    "\n",
    "**Previous Work**:\n",
    "- https://www.kaggle.com/manikanthr5/riiid-ensemble-lgbm-sakt-inference\n",
    "- https://www.kaggle.com/manikanthr5/riiid-lgbm-single-model-ensembling-training\n",
    "- https://www.kaggle.com/manikanthr5/riiid-lgbm-single-model-ensembling-scoring\n",
    "\n",
    "**Acknowledgement**: \n",
    "- I have modified this popular notebook https://www.kaggle.com/leadbest/sakt-with-randomization-state-updates which is a modification of https://www.kaggle.com/wangsg/a-self-attentive-model-for-knowledge-tracing\n",
    "\n",
    "**Possible Improvements**:\n",
    "- All the data in this notebook is used for training, so create a train and valid dataset for cross validation. Hint: For me this improved my CV but degraded my LB.\n",
    "- Some other basic things you could try:\n",
    "  - Using Label Smoothing\n",
    "  - Using Learning Rate Schedulers"
   ]
  },
  {
   "cell_type": "code",
   "execution_count": 1,
   "metadata": {
    "_cell_guid": "79c7e3d0-c299-4dcb-8224-4455121ee9b0",
    "_uuid": "d629ff2d2480ee46fbb7e2d37f6b5fab8052498a",
    "execution": {
     "iopub.execute_input": "2020-12-19T02:02:12.311130Z",
     "iopub.status.busy": "2020-12-19T02:02:12.310503Z",
     "iopub.status.idle": "2020-12-19T02:02:13.574016Z",
     "shell.execute_reply": "2020-12-19T02:02:13.573229Z"
    },
    "papermill": {
     "duration": 1.277435,
     "end_time": "2020-12-19T02:02:13.574162",
     "exception": false,
     "start_time": "2020-12-19T02:02:12.296727",
     "status": "completed"
    },
    "tags": []
   },
   "outputs": [],
   "source": [
    "import psutil\n",
    "import joblib\n",
    "\n",
    "import numpy as np\n",
    "import pandas as pd\n",
    "\n",
    "import torch\n",
    "import torch.nn as nn\n",
    "from torch.utils.data import Dataset, DataLoader"
   ]
  },
  {
   "cell_type": "code",
   "execution_count": 2,
   "metadata": {
    "execution": {
     "iopub.execute_input": "2020-12-19T02:02:13.606218Z",
     "iopub.status.busy": "2020-12-19T02:02:13.605296Z",
     "iopub.status.idle": "2020-12-19T02:02:13.631624Z",
     "shell.execute_reply": "2020-12-19T02:02:13.631020Z"
    },
    "papermill": {
     "duration": 0.043923,
     "end_time": "2020-12-19T02:02:13.631730",
     "exception": false,
     "start_time": "2020-12-19T02:02:13.587807",
     "status": "completed"
    },
    "tags": []
   },
   "outputs": [],
   "source": [
    "import riiideducation\n",
    "\n",
    "env = riiideducation.make_env()\n",
    "iter_test = env.iter_test()"
   ]
  },
  {
   "cell_type": "code",
   "execution_count": 3,
   "metadata": {
    "execution": {
     "iopub.execute_input": "2020-12-19T02:02:13.654082Z",
     "iopub.status.busy": "2020-12-19T02:02:13.653465Z",
     "iopub.status.idle": "2020-12-19T02:02:13.657176Z",
     "shell.execute_reply": "2020-12-19T02:02:13.656674Z"
    },
    "papermill": {
     "duration": 0.016423,
     "end_time": "2020-12-19T02:02:13.657279",
     "exception": false,
     "start_time": "2020-12-19T02:02:13.640856",
     "status": "completed"
    },
    "tags": []
   },
   "outputs": [],
   "source": [
    "MAX_SEQ = 100"
   ]
  },
  {
   "cell_type": "code",
   "execution_count": 4,
   "metadata": {
    "execution": {
     "iopub.execute_input": "2020-12-19T02:02:13.696722Z",
     "iopub.status.busy": "2020-12-19T02:02:13.696021Z",
     "iopub.status.idle": "2020-12-19T02:02:13.698935Z",
     "shell.execute_reply": "2020-12-19T02:02:13.698416Z"
    },
    "papermill": {
     "duration": 0.032581,
     "end_time": "2020-12-19T02:02:13.699042",
     "exception": false,
     "start_time": "2020-12-19T02:02:13.666461",
     "status": "completed"
    },
    "tags": []
   },
   "outputs": [],
   "source": [
    "class FFN(nn.Module):\n",
    "    def __init__(self, state_size=200):\n",
    "        super(FFN, self).__init__()\n",
    "        self.state_size = state_size\n",
    "\n",
    "        self.lr1 = nn.Linear(state_size, state_size)\n",
    "        self.relu = nn.ReLU()\n",
    "        self.lr2 = nn.Linear(state_size, state_size)\n",
    "        self.dropout = nn.Dropout(0.2)\n",
    "    \n",
    "    def forward(self, x):\n",
    "        x = self.lr1(x)\n",
    "        x = self.relu(x)\n",
    "        x = self.lr2(x)\n",
    "        return self.dropout(x)\n",
    "\n",
    "def future_mask(seq_length):\n",
    "    future_mask = np.triu(np.ones((seq_length, seq_length)), k=1).astype('bool')\n",
    "    return torch.from_numpy(future_mask)\n",
    "\n",
    "\n",
    "class SAKTModel(nn.Module):\n",
    "    def __init__(self, n_skill, max_seq=MAX_SEQ, embed_dim=128):\n",
    "        super(SAKTModel, self).__init__()\n",
    "        self.n_skill = n_skill\n",
    "        self.embed_dim = embed_dim\n",
    "\n",
    "        self.embedding = nn.Embedding(2*n_skill+1, embed_dim)\n",
    "        self.pos_embedding = nn.Embedding(max_seq-1, embed_dim)\n",
    "        self.e_embedding = nn.Embedding(n_skill+1, embed_dim)\n",
    "\n",
    "        self.multi_att = nn.MultiheadAttention(embed_dim=embed_dim, num_heads=8, dropout=0.2)\n",
    "\n",
    "        self.dropout = nn.Dropout(0.2)\n",
    "        self.layer_normal = nn.LayerNorm(embed_dim) \n",
    "\n",
    "        self.ffn = FFN(embed_dim)\n",
    "        self.pred = nn.Linear(embed_dim, 1)\n",
    "    \n",
    "    def forward(self, x, question_ids):\n",
    "        device = x.device        \n",
    "        x = self.embedding(x)\n",
    "        pos_id = torch.arange(x.size(1)).unsqueeze(0).to(device)\n",
    "\n",
    "        pos_x = self.pos_embedding(pos_id)\n",
    "        x = x + pos_x\n",
    "\n",
    "        e = self.e_embedding(question_ids)\n",
    "\n",
    "        x = x.permute(1, 0, 2) # x: [bs, s_len, embed] => [s_len, bs, embed]\n",
    "        e = e.permute(1, 0, 2)\n",
    "        att_mask = future_mask(x.size(0)).to(device)\n",
    "        att_output, att_weight = self.multi_att(e, x, x, attn_mask=att_mask)\n",
    "        att_output = self.layer_normal(att_output + e)\n",
    "        att_output = att_output.permute(1, 0, 2) # att_output: [s_len, bs, embed] => [bs, s_len, embed]\n",
    "\n",
    "        x = self.ffn(att_output)\n",
    "        x = self.layer_normal(x + att_output)\n",
    "        x = self.pred(x)\n",
    "\n",
    "        return x.squeeze(-1), att_weight"
   ]
  },
  {
   "cell_type": "markdown",
   "metadata": {
    "papermill": {
     "duration": 0.008886,
     "end_time": "2020-12-19T02:02:13.717177",
     "exception": false,
     "start_time": "2020-12-19T02:02:13.708291",
     "status": "completed"
    },
    "tags": []
   },
   "source": [
    "## Load Pretrained Models"
   ]
  },
  {
   "cell_type": "code",
   "execution_count": 5,
   "metadata": {
    "execution": {
     "iopub.execute_input": "2020-12-19T02:02:13.740218Z",
     "iopub.status.busy": "2020-12-19T02:02:13.739626Z",
     "iopub.status.idle": "2020-12-19T02:02:30.072242Z",
     "shell.execute_reply": "2020-12-19T02:02:30.071243Z"
    },
    "papermill": {
     "duration": 16.346207,
     "end_time": "2020-12-19T02:02:30.072412",
     "exception": false,
     "start_time": "2020-12-19T02:02:13.726205",
     "status": "completed"
    },
    "tags": []
   },
   "outputs": [],
   "source": [
    "skills = joblib.load(\"/kaggle/input/riiid-sakt-model-dataset-public/skills.pkl.zip\")\n",
    "n_skill = len(skills)\n",
    "group = joblib.load(\"/kaggle/input/riiid-sakt-model-dataset-public/group.pkl.zip\")"
   ]
  },
  {
   "cell_type": "code",
   "execution_count": 6,
   "metadata": {
    "execution": {
     "iopub.execute_input": "2020-12-19T02:02:30.125424Z",
     "iopub.status.busy": "2020-12-19T02:02:30.117075Z",
     "iopub.status.idle": "2020-12-19T02:02:30.557841Z",
     "shell.execute_reply": "2020-12-19T02:02:30.558422Z"
    },
    "papermill": {
     "duration": 0.471985,
     "end_time": "2020-12-19T02:02:30.558583",
     "exception": false,
     "start_time": "2020-12-19T02:02:30.086598",
     "status": "completed"
    },
    "tags": []
   },
   "outputs": [
    {
     "data": {
      "text/plain": [
       "SAKTModel(\n",
       "  (embedding): Embedding(27047, 128)\n",
       "  (pos_embedding): Embedding(99, 128)\n",
       "  (e_embedding): Embedding(13524, 128)\n",
       "  (multi_att): MultiheadAttention(\n",
       "    (out_proj): _LinearWithBias(in_features=128, out_features=128, bias=True)\n",
       "  )\n",
       "  (dropout): Dropout(p=0.2, inplace=False)\n",
       "  (layer_normal): LayerNorm((128,), eps=1e-05, elementwise_affine=True)\n",
       "  (ffn): FFN(\n",
       "    (lr1): Linear(in_features=128, out_features=128, bias=True)\n",
       "    (relu): ReLU()\n",
       "    (lr2): Linear(in_features=128, out_features=128, bias=True)\n",
       "    (dropout): Dropout(p=0.2, inplace=False)\n",
       "  )\n",
       "  (pred): Linear(in_features=128, out_features=1, bias=True)\n",
       ")"
      ]
     },
     "execution_count": 6,
     "metadata": {},
     "output_type": "execute_result"
    }
   ],
   "source": [
    "device = torch.device(\"cuda\" if torch.cuda.is_available() else \"cpu\")\n",
    "\n",
    "model = SAKTModel(n_skill, embed_dim=128)\n",
    "try:\n",
    "    model.load_state_dict(torch.load(\"/kaggle/input/riiid-sakt-model-dataset-public/sakt_model.pt\"))\n",
    "except:\n",
    "    model.load_state_dict(torch.load(\"/kaggle/input/riiid-sakt-model-dataset-public/sakt_model.pt\", map_location='cpu'))\n",
    "model.to(device)\n",
    "model.eval()"
   ]
  },
  {
   "cell_type": "markdown",
   "metadata": {
    "papermill": {
     "duration": 0.014637,
     "end_time": "2020-12-19T02:02:30.586811",
     "exception": false,
     "start_time": "2020-12-19T02:02:30.572174",
     "status": "completed"
    },
    "tags": []
   },
   "source": [
    "## Inference"
   ]
  },
  {
   "cell_type": "code",
   "execution_count": 7,
   "metadata": {
    "execution": {
     "iopub.execute_input": "2020-12-19T02:02:30.631945Z",
     "iopub.status.busy": "2020-12-19T02:02:30.630948Z",
     "iopub.status.idle": "2020-12-19T02:02:30.634213Z",
     "shell.execute_reply": "2020-12-19T02:02:30.634906Z"
    },
    "papermill": {
     "duration": 0.033325,
     "end_time": "2020-12-19T02:02:30.635066",
     "exception": false,
     "start_time": "2020-12-19T02:02:30.601741",
     "status": "completed"
    },
    "tags": []
   },
   "outputs": [],
   "source": [
    "class TestDataset(Dataset):\n",
    "    def __init__(self, samples, test_df, skills, max_seq=MAX_SEQ): \n",
    "        super(TestDataset, self).__init__()\n",
    "        self.samples = samples\n",
    "        self.user_ids = [x for x in test_df[\"user_id\"].unique()]\n",
    "        self.test_df = test_df\n",
    "        self.skills = skills\n",
    "        self.n_skill = len(skills)\n",
    "        self.max_seq = max_seq\n",
    "\n",
    "    def __len__(self):\n",
    "        return self.test_df.shape[0]\n",
    "\n",
    "    def __getitem__(self, index):\n",
    "        test_info = self.test_df.iloc[index]\n",
    "\n",
    "        user_id = test_info[\"user_id\"]\n",
    "        target_id = test_info[\"content_id\"]\n",
    "\n",
    "        q = np.zeros(self.max_seq, dtype=int)\n",
    "        qa = np.zeros(self.max_seq, dtype=int)\n",
    "\n",
    "        if user_id in self.samples.index:\n",
    "            q_, qa_ = self.samples[user_id]\n",
    "            \n",
    "            seq_len = len(q_)\n",
    "\n",
    "            if seq_len >= self.max_seq:\n",
    "                q = q_[-self.max_seq:]\n",
    "                qa = qa_[-self.max_seq:]\n",
    "            else:\n",
    "                q[-seq_len:] = q_\n",
    "                qa[-seq_len:] = qa_          \n",
    "        \n",
    "        x = np.zeros(self.max_seq-1, dtype=int)\n",
    "        x = q[1:].copy()\n",
    "        x += (qa[1:] == 1) * self.n_skill\n",
    "        \n",
    "        questions = np.append(q[2:], [target_id])\n",
    "        \n",
    "        return x, questions"
   ]
  },
  {
   "cell_type": "code",
   "execution_count": 8,
   "metadata": {
    "execution": {
     "iopub.execute_input": "2020-12-19T02:02:30.683388Z",
     "iopub.status.busy": "2020-12-19T02:02:30.679011Z",
     "iopub.status.idle": "2020-12-19T02:02:31.458003Z",
     "shell.execute_reply": "2020-12-19T02:02:31.457253Z"
    },
    "papermill": {
     "duration": 0.808056,
     "end_time": "2020-12-19T02:02:31.458141",
     "exception": false,
     "start_time": "2020-12-19T02:02:30.650085",
     "status": "completed"
    },
    "tags": []
   },
   "outputs": [],
   "source": [
    "prev_test_df = None\n",
    "\n",
    "for (test_df, sample_prediction_df) in iter_test:\n",
    "    if (prev_test_df is not None) & (psutil.virtual_memory().percent < 90):\n",
    "        prev_test_df['answered_correctly'] = eval(test_df['prior_group_answers_correct'].iloc[0])\n",
    "        prev_test_df = prev_test_df[prev_test_df.content_type_id == False]\n",
    "        \n",
    "        prev_group = prev_test_df[['user_id', 'content_id', 'answered_correctly']].groupby('user_id').apply(lambda r: (\n",
    "            r['content_id'].values,\n",
    "            r['answered_correctly'].values))\n",
    "        for prev_user_id in prev_group.index:\n",
    "            if prev_user_id in group.index:\n",
    "                group[prev_user_id] = (\n",
    "                    np.append(group[prev_user_id][0], prev_group[prev_user_id][0])[-MAX_SEQ:], \n",
    "                    np.append(group[prev_user_id][1], prev_group[prev_user_id][1])[-MAX_SEQ:]\n",
    "                )\n",
    " \n",
    "            else:\n",
    "                group[prev_user_id] = (\n",
    "                    prev_group[prev_user_id][0], \n",
    "                    prev_group[prev_user_id][1]\n",
    "                )\n",
    "\n",
    "    prev_test_df = test_df.copy()\n",
    "    \n",
    "    test_df = test_df[test_df.content_type_id == False]\n",
    "    test_dataset = TestDataset(group, test_df, skills)\n",
    "    test_dataloader = DataLoader(test_dataset, batch_size=51200, shuffle=False)\n",
    "    \n",
    "    outs = []\n",
    "\n",
    "    for item in test_dataloader:\n",
    "        x = item[0].to(device).long()\n",
    "        target_id = item[1].to(device).long()\n",
    "\n",
    "        with torch.no_grad():\n",
    "            output, att_weight = model(x, target_id)\n",
    "        outs.extend(torch.sigmoid(output)[:, -1].view(-1).data.cpu().numpy())\n",
    "        \n",
    "    test_df['answered_correctly'] = outs\n",
    "    env.predict(test_df.loc[test_df['content_type_id'] == 0, ['row_id', 'answered_correctly']])"
   ]
  },
  {
   "cell_type": "markdown",
   "metadata": {
    "papermill": {
     "duration": 0.014878,
     "end_time": "2020-12-19T02:02:31.488419",
     "exception": false,
     "start_time": "2020-12-19T02:02:31.473541",
     "status": "completed"
    },
    "tags": []
   },
   "source": [
    "---"
   ]
  }
 ],
 "metadata": {
  "kernelspec": {
   "display_name": "Python 3",
   "language": "python",
   "name": "python3"
  },
  "language_info": {
   "codemirror_mode": {
    "name": "ipython",
    "version": 3
   },
   "file_extension": ".py",
   "mimetype": "text/x-python",
   "name": "python",
   "nbconvert_exporter": "python",
   "pygments_lexer": "ipython3",
   "version": "3.7.6"
  },
  "papermill": {
   "duration": 24.548308,
   "end_time": "2020-12-19T02:02:31.714362",
   "environment_variables": {},
   "exception": null,
   "input_path": "__notebook__.ipynb",
   "output_path": "__notebook__.ipynb",
   "parameters": {},
   "start_time": "2020-12-19T02:02:07.166054",
   "version": "2.1.0"
  }
 },
 "nbformat": 4,
 "nbformat_minor": 4
}
