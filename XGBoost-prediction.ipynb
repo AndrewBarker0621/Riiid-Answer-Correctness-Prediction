{
 "cells": [
  {
   "cell_type": "code",
   "execution_count": 1,
   "metadata": {
    "_cell_guid": "b1076dfc-b9ad-4769-8c92-a6c4dae69d19",
    "_uuid": "8f2839f25d086af736a60e9eeb907d3b93b6e0e5",
    "execution": {
     "iopub.execute_input": "2020-12-21T09:46:30.799088Z",
     "iopub.status.busy": "2020-12-21T09:46:30.798316Z",
     "iopub.status.idle": "2020-12-21T09:46:31.819420Z",
     "shell.execute_reply": "2020-12-21T09:46:31.818801Z"
    },
    "papermill": {
     "duration": 1.05106,
     "end_time": "2020-12-21T09:46:31.819551",
     "exception": false,
     "start_time": "2020-12-21T09:46:30.768491",
     "status": "completed"
    },
    "tags": []
   },
   "outputs": [
    {
     "name": "stdout",
     "output_type": "stream",
     "text": [
      "/kaggle/input/answer-correctness-rapids-xgb-lgbm/user_answers.parquet\n",
      "/kaggle/input/answer-correctness-rapids-xgb-lgbm/lectures.parquet\n",
      "/kaggle/input/answer-correctness-rapids-xgb-lgbm/new_train.parquet\n",
      "/kaggle/input/answer-correctness-rapids-xgb-lgbm/__results__.html\n",
      "/kaggle/input/answer-correctness-rapids-xgb-lgbm/content_answers.parquet\n",
      "/kaggle/input/answer-correctness-rapids-xgb-lgbm/submission.csv\n",
      "/kaggle/input/answer-correctness-rapids-xgb-lgbm/baseline_model.pickle.dat\n",
      "/kaggle/input/answer-correctness-rapids-xgb-lgbm/__notebook__.ipynb\n",
      "/kaggle/input/answer-correctness-rapids-xgb-lgbm/__output__.json\n",
      "/kaggle/input/answer-correctness-rapids-xgb-lgbm/questions.parquet\n",
      "/kaggle/input/answer-correctness-rapids-xgb-lgbm/custom.css\n",
      "/kaggle/input/answer-correctness-rapids-xgb-lgbm/dask-worker-space/dask-worker-space/worker-ad2ucw3q.dirlock\n",
      "/kaggle/input/answer-correctness-rapids-xgb-lgbm/dask-worker-space/dask-worker-space/global.lock\n",
      "/kaggle/input/answer-correctness-rapids-xgb-lgbm/dask-worker-space/dask-worker-space/purge.lock\n",
      "/kaggle/input/answer-correctness-rapids-xgb-lgbm/__results___files/__results___17_5.png\n",
      "/kaggle/input/answer-correctness-rapids-xgb-lgbm/__results___files/__results___79_0.png\n",
      "/kaggle/input/answer-correctness-rapids-xgb-lgbm/__results___files/__results___37_1.png\n",
      "/kaggle/input/answer-correctness-rapids-xgb-lgbm/__results___files/__results___19_0.png\n",
      "/kaggle/input/answer-correctness-rapids-xgb-lgbm/__results___files/__results___19_3.png\n",
      "/kaggle/input/answer-correctness-rapids-xgb-lgbm/__results___files/__results___19_1.png\n",
      "/kaggle/input/answer-correctness-rapids-xgb-lgbm/__results___files/__results___36_0.png\n",
      "/kaggle/input/answer-correctness-rapids-xgb-lgbm/__results___files/__results___27_0.png\n",
      "/kaggle/input/answer-correctness-rapids-xgb-lgbm/__results___files/__results___46_0.png\n",
      "/kaggle/input/answer-correctness-rapids-xgb-lgbm/__results___files/__results___15_1.png\n",
      "/kaggle/input/answer-correctness-rapids-xgb-lgbm/__results___files/__results___19_2.png\n",
      "/kaggle/input/answer-correctness-rapids-xgb-lgbm/__results___files/__results___4_0.png\n",
      "/kaggle/input/answer-correctness-rapids-xgb-lgbm/__results___files/__results___46_1.png\n",
      "/kaggle/input/answer-correctness-rapids-xgb-lgbm/__results___files/__results___36_1.png\n",
      "/kaggle/input/answer-correctness-rapids-xgb-lgbm/__results___files/__results___17_3.png\n",
      "/kaggle/input/answer-correctness-rapids-xgb-lgbm/__results___files/__results___15_3.png\n",
      "/kaggle/input/answer-correctness-rapids-xgb-lgbm/__results___files/__results___17_1.png\n",
      "/kaggle/input/rapids/rapids.0.16.0\n",
      "/kaggle/input/rapids/rapids.0.17.0\n",
      "/kaggle/input/riiid-test-answer-prediction/example_sample_submission.csv\n",
      "/kaggle/input/riiid-test-answer-prediction/example_test.csv\n",
      "/kaggle/input/riiid-test-answer-prediction/questions.csv\n",
      "/kaggle/input/riiid-test-answer-prediction/train.csv\n",
      "/kaggle/input/riiid-test-answer-prediction/lectures.csv\n",
      "/kaggle/input/riiid-test-answer-prediction/riiideducation/competition.cpython-37m-x86_64-linux-gnu.so\n",
      "/kaggle/input/riiid-test-answer-prediction/riiideducation/__init__.py\n"
     ]
    }
   ],
   "source": [
    "# This Python 3 environment comes with many helpful analytics libraries installed\n",
    "# It is defined by the kaggle/python Docker image: https://github.com/kaggle/docker-python\n",
    "# For example, here's several helpful packages to load\n",
    "\n",
    "import numpy as np # linear algebra\n",
    "import pandas as pd # data processing, CSV file I/O (e.g. pd.read_csv)\n",
    "import matplotlib.pyplot as plt # plots\n",
    "import seaborn as sns # plots\n",
    "import gc\n",
    "import riiideducation\n",
    "# Input data files are available in the read-only \"../input/\" directory\n",
    "# For example, running this (by clicking run or pressing Shift+Enter) will list all files under the input directory\n",
    "\n",
    "import os\n",
    "for dirname, _, filenames in os.walk('/kaggle/input'):\n",
    "    for filename in filenames:\n",
    "        print(os.path.join(dirname, filename))\n",
    "\n",
    "# You can write up to 20GB to the current directory (/kaggle/working/) that gets preserved as output when you create a version using \"Save & Run All\" \n",
    "# You can also write temporary files to /kaggle/temp/, but they won't be saved outside of the current session"
   ]
  },
  {
   "cell_type": "markdown",
   "metadata": {
    "papermill": {
     "duration": 0.02303,
     "end_time": "2020-12-21T09:46:31.866618",
     "exception": false,
     "start_time": "2020-12-21T09:46:31.843588",
     "status": "completed"
    },
    "tags": []
   },
   "source": [
    "# Riiid answer prediction - XGBoost\n",
    "\n",
    "## Steps\n",
    "1. Load\n",
    "2. Process\n",
    "3. Model\n",
    "4. Evaluate"
   ]
  },
  {
   "cell_type": "markdown",
   "metadata": {
    "papermill": {
     "duration": 0.024573,
     "end_time": "2020-12-21T09:46:31.914346",
     "exception": false,
     "start_time": "2020-12-21T09:46:31.889773",
     "status": "completed"
    },
    "tags": []
   },
   "source": [
    "## 1. Load"
   ]
  },
  {
   "cell_type": "markdown",
   "metadata": {
    "papermill": {
     "duration": 0.022659,
     "end_time": "2020-12-21T09:46:31.960219",
     "exception": false,
     "start_time": "2020-12-21T09:46:31.937560",
     "status": "completed"
    },
    "tags": []
   },
   "source": [
    "### Issue    : Data volume  \n",
    "### Solution : RAPIDS library & Kaggle GPU (39H/week)"
   ]
  },
  {
   "cell_type": "code",
   "execution_count": 2,
   "metadata": {
    "execution": {
     "iopub.execute_input": "2020-12-21T09:46:32.010855Z",
     "iopub.status.busy": "2020-12-21T09:46:32.009992Z",
     "iopub.status.idle": "2020-12-21T09:46:36.765841Z",
     "shell.execute_reply": "2020-12-21T09:46:36.764777Z"
    },
    "papermill": {
     "duration": 4.782364,
     "end_time": "2020-12-21T09:46:36.765964",
     "exception": false,
     "start_time": "2020-12-21T09:46:31.983600",
     "status": "completed"
    },
    "tags": []
   },
   "outputs": [],
   "source": [
    "# Rapids Imports\n",
    "import cudf\n",
    "import cupy # CuPy is an open-source array library accelerated with NVIDIA CUDA."
   ]
  },
  {
   "cell_type": "markdown",
   "metadata": {
    "papermill": {
     "duration": 0.022304,
     "end_time": "2020-12-21T09:46:36.811185",
     "exception": false,
     "start_time": "2020-12-21T09:46:36.788881",
     "status": "completed"
    },
    "tags": []
   },
   "source": [
    "### Data : *train.csv*"
   ]
  },
  {
   "cell_type": "code",
   "execution_count": 3,
   "metadata": {
    "execution": {
     "iopub.execute_input": "2020-12-21T09:46:36.862344Z",
     "iopub.status.busy": "2020-12-21T09:46:36.861596Z",
     "iopub.status.idle": "2020-12-21T09:47:48.442756Z",
     "shell.execute_reply": "2020-12-21T09:47:48.443536Z"
    },
    "papermill": {
     "duration": 71.610669,
     "end_time": "2020-12-21T09:47:48.443700",
     "exception": false,
     "start_time": "2020-12-21T09:46:36.833031",
     "status": "completed"
    },
    "tags": []
   },
   "outputs": [
    {
     "name": "stdout",
     "output_type": "stream",
     "text": [
      "CPU times: user 2.91 s, sys: 2.89 s, total: 5.8 s\n",
      "Wall time: 1min 11s\n"
     ]
    }
   ],
   "source": [
    "%%time\n",
    "\n",
    "# Read in data\n",
    "dtypes = {\n",
    "    \"row_id\": \"int64\",\n",
    "    \"timestamp\": \"int64\",\n",
    "    \"user_id\": \"int32\",\n",
    "    \"content_id\": \"int16\",\n",
    "    \"content_type_id\": \"int8\",\n",
    "    \"task_container_id\": \"int16\",\n",
    "    \"user_answer\": \"int8\",\n",
    "    \"answered_correctly\": \"int8\",\n",
    "    \"prior_question_elapsed_time\": \"float32\", \n",
    "    \"prior_question_had_explanation\": \"int8\"\n",
    "}\n",
    "\n",
    "train = cudf.read_csv('../input/riiid-test-answer-prediction/train.csv', dtype=dtypes)"
   ]
  },
  {
   "cell_type": "code",
   "execution_count": 4,
   "metadata": {
    "execution": {
     "iopub.execute_input": "2020-12-21T09:47:48.495983Z",
     "iopub.status.busy": "2020-12-21T09:47:48.495221Z",
     "iopub.status.idle": "2020-12-21T09:47:48.547983Z",
     "shell.execute_reply": "2020-12-21T09:47:48.547505Z"
    },
    "papermill": {
     "duration": 0.081486,
     "end_time": "2020-12-21T09:47:48.548101",
     "exception": false,
     "start_time": "2020-12-21T09:47:48.466615",
     "status": "completed"
    },
    "tags": []
   },
   "outputs": [],
   "source": [
    "# Fill in missing values with \"-1\"\n",
    "train[\"prior_question_elapsed_time\"] = train[\"prior_question_elapsed_time\"].fillna(-1)\n",
    "train[\"prior_question_had_explanation\"] = train[\"prior_question_had_explanation\"].fillna(-1)"
   ]
  },
  {
   "cell_type": "markdown",
   "metadata": {
    "papermill": {
     "duration": 0.02253,
     "end_time": "2020-12-21T09:47:48.595190",
     "exception": false,
     "start_time": "2020-12-21T09:47:48.572660",
     "status": "completed"
    },
    "tags": []
   },
   "source": [
    "___"
   ]
  },
  {
   "cell_type": "markdown",
   "metadata": {
    "papermill": {
     "duration": 0.022537,
     "end_time": "2020-12-21T09:47:48.640422",
     "exception": false,
     "start_time": "2020-12-21T09:47:48.617885",
     "status": "completed"
    },
    "tags": []
   },
   "source": [
    "# 2. Process"
   ]
  },
  {
   "cell_type": "code",
   "execution_count": 5,
   "metadata": {
    "execution": {
     "iopub.execute_input": "2020-12-21T09:47:48.698382Z",
     "iopub.status.busy": "2020-12-21T09:47:48.697423Z",
     "iopub.status.idle": "2020-12-21T09:47:48.700750Z",
     "shell.execute_reply": "2020-12-21T09:47:48.700276Z"
    },
    "papermill": {
     "duration": 0.036213,
     "end_time": "2020-12-21T09:47:48.700846",
     "exception": false,
     "start_time": "2020-12-21T09:47:48.664633",
     "status": "completed"
    },
    "tags": []
   },
   "outputs": [],
   "source": [
    "def aggregations(frame, target):\n",
    "    \"\"\"\n",
    "    Thus function create aggregations data.\n",
    "    \"\"\"\n",
    "    cols = ['content_id']  # Columns to aggregate\n",
    "    \n",
    "    aggs = ['var', 'mean']  # List of aggregation functions\n",
    "    \n",
    "    aggs_dfs = []  # List of aggregated DataFrame\n",
    "    \n",
    "    for col in cols:  # Loop over the columns to aggregate\n",
    "        \n",
    "        df = frame.groupby(col).agg({target : aggs})\n",
    "        \n",
    "        df.columns = [ col[0] + new_column for new_column in df.columns.droplevel()]\n",
    "        \n",
    "        df[col] = df.index  # Add the index as column for the merge\n",
    "        \n",
    "        frame = frame.merge(df, on=col)  # Merge based on the same column\n",
    "        \n",
    "        aggs_dfs.append(df)\n",
    "        \n",
    "    return frame, aggs_dfs[0]\n",
    "\n",
    "def preprocess_frame(frame, features, target):\n",
    "    \"\"\"\n",
    "    This function do the preprocessing on the dataframe and the feature\n",
    "    engineering.\n",
    "    \"\"\"\n",
    "    \n",
    "    frame = frame[features]  # Working only on features\n",
    "        \n",
    "    frame = aggregations(frame, target)  # Do the aggregations\n",
    "\n",
    "    \n",
    "    return frame"
   ]
  },
  {
   "cell_type": "markdown",
   "metadata": {
    "papermill": {
     "duration": 0.022999,
     "end_time": "2020-12-21T09:47:48.746699",
     "exception": false,
     "start_time": "2020-12-21T09:47:48.723700",
     "status": "completed"
    },
    "tags": []
   },
   "source": [
    "# 3. Model"
   ]
  },
  {
   "cell_type": "code",
   "execution_count": 6,
   "metadata": {
    "execution": {
     "iopub.execute_input": "2020-12-21T09:47:48.798930Z",
     "iopub.status.busy": "2020-12-21T09:47:48.797167Z",
     "iopub.status.idle": "2020-12-21T09:47:48.799645Z",
     "shell.execute_reply": "2020-12-21T09:47:48.800149Z"
    },
    "papermill": {
     "duration": 0.030302,
     "end_time": "2020-12-21T09:47:48.800266",
     "exception": false,
     "start_time": "2020-12-21T09:47:48.769964",
     "status": "completed"
    },
    "tags": []
   },
   "outputs": [],
   "source": [
    "cudf.set_allocator(\"managed\")"
   ]
  },
  {
   "cell_type": "code",
   "execution_count": 7,
   "metadata": {
    "execution": {
     "iopub.execute_input": "2020-12-21T09:47:48.852033Z",
     "iopub.status.busy": "2020-12-21T09:47:48.851222Z",
     "iopub.status.idle": "2020-12-21T09:47:55.567386Z",
     "shell.execute_reply": "2020-12-21T09:47:55.566640Z"
    },
    "papermill": {
     "duration": 6.744676,
     "end_time": "2020-12-21T09:47:55.567497",
     "exception": false,
     "start_time": "2020-12-21T09:47:48.822821",
     "status": "completed"
    },
    "tags": []
   },
   "outputs": [],
   "source": [
    "# %%time\n",
    "\n",
    "# Let's exclude all observations where (content_type_id = 1) & (answered_correctly = -1)\n",
    "train = train[train['content_type_id'] != 1]\n",
    "train = train[train['answered_correctly'] != -1].reset_index(drop=True)"
   ]
  },
  {
   "cell_type": "code",
   "execution_count": 8,
   "metadata": {
    "execution": {
     "iopub.execute_input": "2020-12-21T09:47:55.618768Z",
     "iopub.status.busy": "2020-12-21T09:47:55.618183Z",
     "iopub.status.idle": "2020-12-21T09:47:56.958750Z",
     "shell.execute_reply": "2020-12-21T09:47:56.957840Z"
    },
    "papermill": {
     "duration": 1.367743,
     "end_time": "2020-12-21T09:47:56.958860",
     "exception": false,
     "start_time": "2020-12-21T09:47:55.591117",
     "status": "completed"
    },
    "tags": []
   },
   "outputs": [
    {
     "name": "stdout",
     "output_type": "stream",
     "text": [
      "CPU times: user 555 ms, sys: 53.9 ms, total: 609 ms\n",
      "Wall time: 1.33 s\n"
     ]
    }
   ],
   "source": [
    "%%time\n",
    "\n",
    "# RAPIDS roc_auc_score is 16x faster than sklearn. - cdeotte\n",
    "from cuml.metrics import roc_auc_score\n",
    "from cuml.preprocessing.model_selection import train_test_split\n",
    "import xgboost\n",
    "import pickle"
   ]
  },
  {
   "cell_type": "code",
   "execution_count": 9,
   "metadata": {
    "execution": {
     "iopub.execute_input": "2020-12-21T09:47:57.026727Z",
     "iopub.status.busy": "2020-12-21T09:47:57.024944Z",
     "iopub.status.idle": "2020-12-21T09:47:57.027516Z",
     "shell.execute_reply": "2020-12-21T09:47:57.028069Z"
    },
    "papermill": {
     "duration": 0.044562,
     "end_time": "2020-12-21T09:47:57.028193",
     "exception": false,
     "start_time": "2020-12-21T09:47:56.983631",
     "status": "completed"
    },
    "tags": []
   },
   "outputs": [],
   "source": [
    "def train_xgb_model(X_train, X_test, y_train, y_test, params, prints=True):\n",
    "    '''Trains an XGB and returns the trained model + ROC value.'''\n",
    "    # Create DMatrix - is optimized for both memory efficiency and training speed.\n",
    "    train_matrix = xgboost.DMatrix(data = X_train, label = y_train)\n",
    "    \n",
    "    # Create & Train the model\n",
    "    model = xgboost.train(params, dtrain = train_matrix)\n",
    "\n",
    "    # Make prediction\n",
    "    predicts = model.predict(xgboost.DMatrix(X_test))\n",
    "    roc = roc_auc_score(y_test.astype('int32'), predicts)\n",
    "\n",
    "    if prints:\n",
    "        print(\"ROC: {:.5}\".format(roc))\n",
    "    \n",
    "    return model, roc\n",
    "\n",
    "\n",
    "def param_tuning_graph(param_values, roc_values):\n",
    "    '''Represents visually the ROC results for the speciffic parameter tune.'''\n",
    "    \n",
    "    plt.figure(figsize=(18, 3))\n",
    "    ax = sns.barplot(x=param_values, y=roc_values, palette=custom_colors)\n",
    "\n",
    "    for p in ax.patches:\n",
    "        width = p.get_width()\n",
    "        height = p.get_height()\n",
    "        x, y = p.get_xy() \n",
    "        ax.annotate(f'{height:.5%}', (x + width/2, y + height*1.02), ha='center')"
   ]
  },
  {
   "cell_type": "code",
   "execution_count": 10,
   "metadata": {
    "execution": {
     "iopub.execute_input": "2020-12-21T09:47:57.089771Z",
     "iopub.status.busy": "2020-12-21T09:47:57.089099Z",
     "iopub.status.idle": "2020-12-21T09:48:00.611224Z",
     "shell.execute_reply": "2020-12-21T09:48:00.610606Z"
    },
    "papermill": {
     "duration": 3.557023,
     "end_time": "2020-12-21T09:48:00.611351",
     "exception": false,
     "start_time": "2020-12-21T09:47:57.054328",
     "status": "completed"
    },
    "tags": []
   },
   "outputs": [
    {
     "name": "stdout",
     "output_type": "stream",
     "text": [
      "CPU times: user 1.88 s, sys: 338 ms, total: 2.22 s\n",
      "Wall time: 3.52 s\n"
     ]
    }
   ],
   "source": [
    "%%time\n",
    "\n",
    "target = 'answered_correctly'\n",
    "\n",
    "# Preprocessing\n",
    "train_proc, c_aggs = preprocess_frame(train, train.columns.tolist(), target)\n",
    "\n",
    "features = train_proc.columns.tolist()"
   ]
  },
  {
   "cell_type": "code",
   "execution_count": 11,
   "metadata": {
    "execution": {
     "iopub.execute_input": "2020-12-21T09:48:00.668632Z",
     "iopub.status.busy": "2020-12-21T09:48:00.666719Z",
     "iopub.status.idle": "2020-12-21T09:48:00.669414Z",
     "shell.execute_reply": "2020-12-21T09:48:00.669945Z"
    },
    "papermill": {
     "duration": 0.033814,
     "end_time": "2020-12-21T09:48:00.670089",
     "exception": false,
     "start_time": "2020-12-21T09:48:00.636275",
     "status": "completed"
    },
    "tags": []
   },
   "outputs": [],
   "source": [
    "features.remove('answered_correctly')\n",
    "features.remove('user_answer')"
   ]
  },
  {
   "cell_type": "code",
   "execution_count": 12,
   "metadata": {
    "execution": {
     "iopub.execute_input": "2020-12-21T09:48:00.726844Z",
     "iopub.status.busy": "2020-12-21T09:48:00.726152Z",
     "iopub.status.idle": "2020-12-21T09:48:00.736045Z",
     "shell.execute_reply": "2020-12-21T09:48:00.736779Z"
    },
    "papermill": {
     "duration": 0.042168,
     "end_time": "2020-12-21T09:48:00.736944",
     "exception": false,
     "start_time": "2020-12-21T09:48:00.694776",
     "status": "completed"
    },
    "tags": []
   },
   "outputs": [
    {
     "name": "stdout",
     "output_type": "stream",
     "text": [
      "CPU times: user 7.29 ms, sys: 548 µs, total: 7.83 ms\n",
      "Wall time: 9.01 ms\n"
     ]
    }
   ],
   "source": [
    "%%time\n",
    "\n",
    "# Features, target and train/test split\n",
    "X = train_proc[features]\n",
    "y = train_proc[target]\n",
    "\n",
    "X_train, X_test, y_train, y_test = train_test_split(X, y, test_size=0.35, shuffle=False, stratify=y)"
   ]
  },
  {
   "cell_type": "code",
   "execution_count": 13,
   "metadata": {
    "execution": {
     "iopub.execute_input": "2020-12-21T09:48:00.791833Z",
     "iopub.status.busy": "2020-12-21T09:48:00.791069Z",
     "iopub.status.idle": "2020-12-21T09:48:00.793552Z",
     "shell.execute_reply": "2020-12-21T09:48:00.794211Z"
    },
    "papermill": {
     "duration": 0.032079,
     "end_time": "2020-12-21T09:48:00.794332",
     "exception": false,
     "start_time": "2020-12-21T09:48:00.762253",
     "status": "completed"
    },
    "tags": []
   },
   "outputs": [],
   "source": [
    "params1 = {\n",
    "    'max_depth' : 4,\n",
    "    'max_leaves' : 2**4,\n",
    "    'tree_method' : 'gpu_hist',\n",
    "    'objective' : 'reg:logistic',\n",
    "    'grow_policy' : 'lossguide'\n",
    "}"
   ]
  },
  {
   "cell_type": "code",
   "execution_count": 14,
   "metadata": {
    "execution": {
     "iopub.execute_input": "2020-12-21T09:48:00.849530Z",
     "iopub.status.busy": "2020-12-21T09:48:00.848796Z",
     "iopub.status.idle": "2020-12-21T09:48:25.567055Z",
     "shell.execute_reply": "2020-12-21T09:48:25.565748Z"
    },
    "papermill": {
     "duration": 24.748051,
     "end_time": "2020-12-21T09:48:25.567198",
     "exception": false,
     "start_time": "2020-12-21T09:48:00.819147",
     "status": "completed"
    },
    "tags": []
   },
   "outputs": [
    {
     "name": "stdout",
     "output_type": "stream",
     "text": [
      "ROC: 0.72266\n"
     ]
    }
   ],
   "source": [
    "model, roc = train_xgb_model(X_train, X_test, y_train, y_test, params1, prints=True)\n",
    "\n",
    "version = \"xgb_v6\"\n",
    "model.save_model(version)"
   ]
  },
  {
   "cell_type": "code",
   "execution_count": 15,
   "metadata": {
    "execution": {
     "iopub.execute_input": "2020-12-21T09:48:25.638391Z",
     "iopub.status.busy": "2020-12-21T09:48:25.636573Z",
     "iopub.status.idle": "2020-12-21T09:48:25.639093Z",
     "shell.execute_reply": "2020-12-21T09:48:25.639629Z"
    },
    "papermill": {
     "duration": 0.036216,
     "end_time": "2020-12-21T09:48:25.639773",
     "exception": false,
     "start_time": "2020-12-21T09:48:25.603557",
     "status": "completed"
    },
    "tags": []
   },
   "outputs": [],
   "source": [
    "# model = xboost.load_model(version)"
   ]
  },
  {
   "cell_type": "code",
   "execution_count": 16,
   "metadata": {
    "execution": {
     "iopub.execute_input": "2020-12-21T09:48:25.701401Z",
     "iopub.status.busy": "2020-12-21T09:48:25.699594Z",
     "iopub.status.idle": "2020-12-21T09:48:25.702126Z",
     "shell.execute_reply": "2020-12-21T09:48:25.702633Z"
    },
    "papermill": {
     "duration": 0.03751,
     "end_time": "2020-12-21T09:48:25.702773",
     "exception": false,
     "start_time": "2020-12-21T09:48:25.665263",
     "status": "completed"
    },
    "tags": []
   },
   "outputs": [],
   "source": [
    "def predict_from(model, Xs, threshold=0.6):\n",
    "    \"\"\"\n",
    "    This function get the predictions from a given pandas dataframe format\n",
    "    in need to be converted to the model specifics.\n",
    "    \"\"\"\n",
    "    \n",
    "    dmatrix = xgboost.DMatrix(Xs)  # Convert DataFrame column to DMatrix\n",
    "    \n",
    "    predictions_probas = model.predict(dmatrix)  # Get the probas of predictions\n",
    "    \n",
    "    predictions = predictions_probas > threshold  # Get True or False\n",
    "    \n",
    "    return predictions.astype(int)  # Predictions with 1 for True and 0 for False"
   ]
  },
  {
   "cell_type": "code",
   "execution_count": 17,
   "metadata": {
    "execution": {
     "iopub.execute_input": "2020-12-21T09:48:25.758898Z",
     "iopub.status.busy": "2020-12-21T09:48:25.758326Z",
     "iopub.status.idle": "2020-12-21T09:48:25.762236Z",
     "shell.execute_reply": "2020-12-21T09:48:25.761679Z"
    },
    "papermill": {
     "duration": 0.034262,
     "end_time": "2020-12-21T09:48:25.762370",
     "exception": false,
     "start_time": "2020-12-21T09:48:25.728108",
     "status": "completed"
    },
    "tags": []
   },
   "outputs": [],
   "source": [
    "def link_to_aggs(Xs, aggs, col):\n",
    "    \n",
    "    Xs = cudf.from_pandas(Xs)  # Convert pandas to cudf\n",
    "        \n",
    "    Xs = Xs.merge(aggs, how='left', on=col)  # Merge cudf DataFrames\n",
    "    \n",
    "    return Xs.to_pandas()"
   ]
  },
  {
   "cell_type": "markdown",
   "metadata": {
    "papermill": {
     "duration": 0.025965,
     "end_time": "2020-12-21T09:48:25.814367",
     "exception": false,
     "start_time": "2020-12-21T09:48:25.788402",
     "status": "completed"
    },
    "tags": []
   },
   "source": [
    "# 4. Evaluate"
   ]
  },
  {
   "cell_type": "markdown",
   "metadata": {
    "papermill": {
     "duration": 0.025298,
     "end_time": "2020-12-21T09:48:25.866102",
     "exception": false,
     "start_time": "2020-12-21T09:48:25.840804",
     "status": "completed"
    },
    "tags": []
   },
   "source": [
    "# 5. Predict and Submit"
   ]
  },
  {
   "cell_type": "code",
   "execution_count": 18,
   "metadata": {
    "execution": {
     "iopub.execute_input": "2020-12-21T09:48:25.927173Z",
     "iopub.status.busy": "2020-12-21T09:48:25.925389Z",
     "iopub.status.idle": "2020-12-21T09:48:25.927825Z",
     "shell.execute_reply": "2020-12-21T09:48:25.928345Z"
    },
    "papermill": {
     "duration": 0.035578,
     "end_time": "2020-12-21T09:48:25.928464",
     "exception": false,
     "start_time": "2020-12-21T09:48:25.892886",
     "status": "completed"
    },
    "tags": []
   },
   "outputs": [],
   "source": [
    "features_submission = ['row_id', 'timestamp', 'user_id', 'content_id', 'content_type_id',\n",
    "       'task_container_id', 'prior_question_elapsed_time',\n",
    "       'prior_question_had_explanation', 'prior_group_answers_correct',\n",
    "       'prior_group_responses']\n",
    "\n",
    "f_sub = set(features_submission)  # Features available for submission\n",
    "\n",
    "dtypes_sub = {\n",
    "    \"row_id\": \"int64\",\n",
    "    \"timestamp\": \"int64\",\n",
    "    \"user_id\": \"int32\",\n",
    "    \"content_id\": \"int16\",\n",
    "    \"content_type_id\": \"int8\",\n",
    "    \"task_container_id\": \"int16\",\n",
    "    \"prior_question_elapsed_time\": \"float32\", \n",
    "    \"prior_question_had_explanation\": \"int8\"\n",
    "}"
   ]
  },
  {
   "cell_type": "code",
   "execution_count": 19,
   "metadata": {
    "execution": {
     "iopub.execute_input": "2020-12-21T09:48:25.996240Z",
     "iopub.status.busy": "2020-12-21T09:48:25.994614Z",
     "iopub.status.idle": "2020-12-21T09:48:25.997634Z",
     "shell.execute_reply": "2020-12-21T09:48:25.998120Z"
    },
    "papermill": {
     "duration": 0.042302,
     "end_time": "2020-12-21T09:48:25.998258",
     "exception": false,
     "start_time": "2020-12-21T09:48:25.955956",
     "status": "completed"
    },
    "tags": []
   },
   "outputs": [],
   "source": [
    "f_train = set(features)  # Features used for training"
   ]
  },
  {
   "cell_type": "code",
   "execution_count": 20,
   "metadata": {
    "execution": {
     "iopub.execute_input": "2020-12-21T09:48:26.060010Z",
     "iopub.status.busy": "2020-12-21T09:48:26.059357Z",
     "iopub.status.idle": "2020-12-21T09:48:26.063824Z",
     "shell.execute_reply": "2020-12-21T09:48:26.063319Z"
    },
    "papermill": {
     "duration": 0.038725,
     "end_time": "2020-12-21T09:48:26.063922",
     "exception": false,
     "start_time": "2020-12-21T09:48:26.025197",
     "status": "completed"
    },
    "tags": []
   },
   "outputs": [],
   "source": [
    "# print(\"Intersection :\", f_sub & f_train)\n",
    "# print(\"Difference   :\", f_sub - f_train)\n",
    "# print(\"Difference   :\", f_train - f_sub)"
   ]
  },
  {
   "cell_type": "code",
   "execution_count": 21,
   "metadata": {
    "execution": {
     "iopub.execute_input": "2020-12-21T09:48:26.125217Z",
     "iopub.status.busy": "2020-12-21T09:48:26.124211Z",
     "iopub.status.idle": "2020-12-21T09:48:26.128543Z",
     "shell.execute_reply": "2020-12-21T09:48:26.129193Z"
    },
    "papermill": {
     "duration": 0.038249,
     "end_time": "2020-12-21T09:48:26.129332",
     "exception": false,
     "start_time": "2020-12-21T09:48:26.091083",
     "status": "completed"
    },
    "tags": []
   },
   "outputs": [
    {
     "data": {
      "text/plain": [
       "['row_id',\n",
       " 'timestamp',\n",
       " 'user_id',\n",
       " 'content_id',\n",
       " 'content_type_id',\n",
       " 'task_container_id',\n",
       " 'prior_question_elapsed_time',\n",
       " 'prior_question_had_explanation',\n",
       " 'cvar',\n",
       " 'cmean']"
      ]
     },
     "execution_count": 21,
     "metadata": {},
     "output_type": "execute_result"
    }
   ],
   "source": [
    "features"
   ]
  },
  {
   "cell_type": "markdown",
   "metadata": {
    "papermill": {
     "duration": 0.027671,
     "end_time": "2020-12-21T09:48:26.186066",
     "exception": false,
     "start_time": "2020-12-21T09:48:26.158395",
     "status": "completed"
    },
    "tags": []
   },
   "source": [
    "___"
   ]
  },
  {
   "cell_type": "code",
   "execution_count": 22,
   "metadata": {
    "execution": {
     "iopub.execute_input": "2020-12-21T09:48:26.247860Z",
     "iopub.status.busy": "2020-12-21T09:48:26.246918Z",
     "iopub.status.idle": "2020-12-21T09:48:26.248810Z",
     "shell.execute_reply": "2020-12-21T09:48:26.249332Z"
    },
    "papermill": {
     "duration": 0.035621,
     "end_time": "2020-12-21T09:48:26.249451",
     "exception": false,
     "start_time": "2020-12-21T09:48:26.213830",
     "status": "completed"
    },
    "tags": []
   },
   "outputs": [],
   "source": [
    "# Create the env\n",
    "env = riiideducation.make_env()"
   ]
  },
  {
   "cell_type": "code",
   "execution_count": 23,
   "metadata": {
    "execution": {
     "iopub.execute_input": "2020-12-21T09:48:26.307843Z",
     "iopub.status.busy": "2020-12-21T09:48:26.307093Z",
     "iopub.status.idle": "2020-12-21T09:48:26.310527Z",
     "shell.execute_reply": "2020-12-21T09:48:26.309928Z"
    },
    "papermill": {
     "duration": 0.034437,
     "end_time": "2020-12-21T09:48:26.310629",
     "exception": false,
     "start_time": "2020-12-21T09:48:26.276192",
     "status": "completed"
    },
    "tags": []
   },
   "outputs": [],
   "source": [
    "# Create the iterator\n",
    "iter_test = env.iter_test()"
   ]
  },
  {
   "cell_type": "code",
   "execution_count": 24,
   "metadata": {
    "execution": {
     "iopub.execute_input": "2020-12-21T09:48:26.378463Z",
     "iopub.status.busy": "2020-12-21T09:48:26.377838Z",
     "iopub.status.idle": "2020-12-21T09:48:27.012845Z",
     "shell.execute_reply": "2020-12-21T09:48:27.011856Z"
    },
    "papermill": {
     "duration": 0.674584,
     "end_time": "2020-12-21T09:48:27.012971",
     "exception": false,
     "start_time": "2020-12-21T09:48:26.338387",
     "status": "completed"
    },
    "tags": []
   },
   "outputs": [],
   "source": [
    "# Iter and predict\n",
    "for (test_df, sample_prediction_df) in iter_test:\n",
    "    \n",
    "    X = test_df\n",
    "    \n",
    "    # X = link_to_aggs(test_df, u_aggs, 'user_id')  # Add the aggregated data\n",
    "    X = link_to_aggs(X, c_aggs, 'content_id')  # Add the aggregated data\n",
    "    \n",
    "    X = X[features]  # Only take defined features\n",
    "    \n",
    "    # Preprocessing block\n",
    "    X[\"prior_question_elapsed_time\"] = X[\"prior_question_elapsed_time\"].fillna(-1)\n",
    "    X[\"prior_question_had_explanation\"] = X[\"prior_question_had_explanation\"].fillna(False)\n",
    "    \n",
    "    X = X[features].astype(dtypes_sub)  # Get the features\n",
    "    \n",
    "    predictions = predict_from(model, X, 0.65)  # Get predictions\n",
    "    \n",
    "    test_df['answered_correctly'] = predictions  # Assign predictions\n",
    "    \n",
    "    env.predict(test_df.loc[test_df['content_type_id'] == 0, ['row_id', 'answered_correctly']])"
   ]
  },
  {
   "cell_type": "markdown",
   "metadata": {
    "papermill": {
     "duration": 0.030928,
     "end_time": "2020-12-21T09:48:27.075032",
     "exception": false,
     "start_time": "2020-12-21T09:48:27.044104",
     "status": "completed"
    },
    "tags": []
   },
   "source": [
    "___"
   ]
  }
 ],
 "metadata": {
  "kernelspec": {
   "display_name": "Python 3",
   "language": "python",
   "name": "python3"
  },
  "language_info": {
   "codemirror_mode": {
    "name": "ipython",
    "version": 3
   },
   "file_extension": ".py",
   "mimetype": "text/x-python",
   "name": "python",
   "nbconvert_exporter": "python",
   "pygments_lexer": "ipython3",
   "version": "3.7.6"
  },
  "papermill": {
   "duration": 121.832044,
   "end_time": "2020-12-21T09:48:28.325080",
   "environment_variables": {},
   "exception": null,
   "input_path": "__notebook__.ipynb",
   "output_path": "__notebook__.ipynb",
   "parameters": {},
   "start_time": "2020-12-21T09:46:26.493036",
   "version": "2.1.0"
  }
 },
 "nbformat": 4,
 "nbformat_minor": 4
}
