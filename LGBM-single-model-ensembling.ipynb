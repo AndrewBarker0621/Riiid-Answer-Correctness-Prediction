{
 "cells": [
  {
   "cell_type": "markdown",
   "metadata": {
    "papermill": {
     "duration": 0.015264,
     "end_time": "2020-12-21T09:46:17.587306",
     "exception": false,
     "start_time": "2020-12-21T09:46:17.572042",
     "status": "completed"
    },
    "tags": []
   },
   "source": [
    "## Riiid! LGBM Single Model Ensembling - Scoring"
   ]
  },
  {
   "cell_type": "markdown",
   "metadata": {
    "papermill": {
     "duration": 0.010594,
     "end_time": "2020-12-21T09:46:17.609670",
     "exception": false,
     "start_time": "2020-12-21T09:46:17.599076",
     "status": "completed"
    },
    "tags": []
   },
   "source": [
    "This notebook is used as a demonstration for my thread on [Single Model Ensembling Guide | LightGBM Example](https://www.kaggle.com/c/riiid-test-answer-prediction/discussion/202344)\n",
    "\n",
    "**Main Idea**: Use different number of trees to score on test data and take the weighted average of the outputs. \n",
    "\n",
    "This is a scoring only notebook. The Training Notebook is [available here](https://www.kaggle.com/manikanthr5/riiid-lgbm-single-model-ensembling-training/).\n",
    "\n",
    "![](https://i.imgur.com/qlQTh0b.png)\n",
    "\n",
    "**Acknowledgement:** I am using [this notebook](https://www.kaggle.com/its7171/lgbm-with-loop-feature-engineering/) as the starter to show my idea. If you like this kernel, please upvote [the actual kernel](https://www.kaggle.com/its7171/lgbm-with-loop-feature-engineering/execution/). I have removed some code which is not required for scoring purpose."
   ]
  },
  {
   "cell_type": "code",
   "execution_count": 1,
   "metadata": {
    "execution": {
     "iopub.execute_input": "2020-12-21T09:46:17.635455Z",
     "iopub.status.busy": "2020-12-21T09:46:17.634760Z",
     "iopub.status.idle": "2020-12-21T09:46:18.802762Z",
     "shell.execute_reply": "2020-12-21T09:46:18.802087Z"
    },
    "lines_to_next_cell": 2,
    "papermill": {
     "duration": 1.182066,
     "end_time": "2020-12-21T09:46:18.802902",
     "exception": false,
     "start_time": "2020-12-21T09:46:17.620836",
     "status": "completed"
    },
    "tags": []
   },
   "outputs": [],
   "source": [
    "import gc\n",
    "import joblib\n",
    "import pandas as pd\n",
    "import numpy as np\n",
    "import lightgbm as lgb"
   ]
  },
  {
   "cell_type": "markdown",
   "metadata": {
    "papermill": {
     "duration": 0.010934,
     "end_time": "2020-12-21T09:46:18.825391",
     "exception": false,
     "start_time": "2020-12-21T09:46:18.814457",
     "status": "completed"
    },
    "tags": []
   },
   "source": [
    "## feature engineering"
   ]
  },
  {
   "cell_type": "code",
   "execution_count": 2,
   "metadata": {
    "execution": {
     "iopub.execute_input": "2020-12-21T09:46:18.860469Z",
     "iopub.status.busy": "2020-12-21T09:46:18.856846Z",
     "iopub.status.idle": "2020-12-21T09:46:18.862790Z",
     "shell.execute_reply": "2020-12-21T09:46:18.863343Z"
    },
    "papermill": {
     "duration": 0.026908,
     "end_time": "2020-12-21T09:46:18.863503",
     "exception": false,
     "start_time": "2020-12-21T09:46:18.836595",
     "status": "completed"
    },
    "tags": []
   },
   "outputs": [],
   "source": [
    "# funcs for user stats with loop\n",
    "def add_user_feats_without_update(df, answered_correctly_sum_u_dict, count_u_dict):\n",
    "    acsu = np.zeros(len(df), dtype=np.int32)\n",
    "    cu = np.zeros(len(df), dtype=np.int32)\n",
    "    for cnt,row in enumerate(df[['user_id']].values):\n",
    "        acsu[cnt] = answered_correctly_sum_u_dict[row[0]]\n",
    "        cu[cnt] = count_u_dict[row[0]]\n",
    "    user_feats_df = pd.DataFrame({'answered_correctly_sum_u':acsu, 'count_u':cu})\n",
    "    user_feats_df['answered_correctly_avg_u'] = user_feats_df['answered_correctly_sum_u'] / user_feats_df['count_u']\n",
    "    df = pd.concat([df, user_feats_df], axis=1)\n",
    "    return df\n",
    "\n",
    "def update_user_feats(df, answered_correctly_sum_u_dict, count_u_dict):\n",
    "    for row in df[['user_id','answered_correctly','content_type_id']].values:\n",
    "        if row[2] == 0:\n",
    "            answered_correctly_sum_u_dict[row[0]] += row[1]\n",
    "            count_u_dict[row[0]] += 1"
   ]
  },
  {
   "cell_type": "markdown",
   "metadata": {
    "papermill": {
     "duration": 0.011033,
     "end_time": "2020-12-21T09:46:18.885986",
     "exception": false,
     "start_time": "2020-12-21T09:46:18.874953",
     "status": "completed"
    },
    "tags": []
   },
   "source": [
    "### Load Variables"
   ]
  },
  {
   "cell_type": "code",
   "execution_count": 3,
   "metadata": {
    "execution": {
     "iopub.execute_input": "2020-12-21T09:46:18.912238Z",
     "iopub.status.busy": "2020-12-21T09:46:18.911537Z",
     "iopub.status.idle": "2020-12-21T09:46:35.699052Z",
     "shell.execute_reply": "2020-12-21T09:46:35.699750Z"
    },
    "papermill": {
     "duration": 16.802527,
     "end_time": "2020-12-21T09:46:35.699907",
     "exception": false,
     "start_time": "2020-12-21T09:46:18.897380",
     "status": "completed"
    },
    "tags": []
   },
   "outputs": [],
   "source": [
    "answered_correctly_sum_u_dict = joblib.load(\"../input/lgbm-with-loop-feature-engineering-dataset/answered_correctly_sum_u_dict.pkl.zip\")\n",
    "count_u_dict = joblib.load(\"../input/lgbm-with-loop-feature-engineering-dataset/count_u_dict.pkl.zip\")\n",
    "\n",
    "questions_df = pd.read_feather('../input/lgbm-with-loop-feature-engineering-dataset/questions_df.feather')\n",
    "content_df = pd.read_feather('../input/lgbm-with-loop-feature-engineering-dataset/content_df.feather')\n",
    "\n",
    "prior_question_elapsed_time_mean = joblib.load(\"../input/lgbm-with-loop-feature-engineering-dataset/prior_question_elapsed_time_mean.pkl.zip\")"
   ]
  },
  {
   "cell_type": "markdown",
   "metadata": {
    "papermill": {
     "duration": 0.011005,
     "end_time": "2020-12-21T09:46:35.723431",
     "exception": false,
     "start_time": "2020-12-21T09:46:35.712426",
     "status": "completed"
    },
    "tags": []
   },
   "source": [
    "## modeling"
   ]
  },
  {
   "cell_type": "code",
   "execution_count": 4,
   "metadata": {
    "_kg_hide-input": true,
    "execution": {
     "iopub.execute_input": "2020-12-21T09:46:35.752731Z",
     "iopub.status.busy": "2020-12-21T09:46:35.751638Z",
     "iopub.status.idle": "2020-12-21T09:46:35.755324Z",
     "shell.execute_reply": "2020-12-21T09:46:35.754732Z"
    },
    "papermill": {
     "duration": 0.020567,
     "end_time": "2020-12-21T09:46:35.755446",
     "exception": false,
     "start_time": "2020-12-21T09:46:35.734879",
     "status": "completed"
    },
    "tags": []
   },
   "outputs": [],
   "source": [
    "TARGET = 'answered_correctly'\n",
    "FEATS = ['answered_correctly_avg_u', 'answered_correctly_sum_u', 'count_u', \n",
    "         'answered_correctly_avg_c', 'part', 'prior_question_had_explanation', \n",
    "         'prior_question_elapsed_time'\n",
    "        ]"
   ]
  },
  {
   "cell_type": "code",
   "execution_count": 5,
   "metadata": {
    "execution": {
     "iopub.execute_input": "2020-12-21T09:46:35.784094Z",
     "iopub.status.busy": "2020-12-21T09:46:35.783277Z",
     "iopub.status.idle": "2020-12-21T09:46:35.988966Z",
     "shell.execute_reply": "2020-12-21T09:46:35.990050Z"
    },
    "papermill": {
     "duration": 0.222889,
     "end_time": "2020-12-21T09:46:35.990249",
     "exception": false,
     "start_time": "2020-12-21T09:46:35.767360",
     "status": "completed"
    },
    "tags": []
   },
   "outputs": [],
   "source": [
    "model = lgb.Booster(model_file=\"../input/lgbm-with-loop-feature-engineering-dataset/fold0_lgb_model.txt\")\n",
    "model.best_iteration = joblib.load(\"../input/lgbm-with-loop-feature-engineering-dataset/fold0_lgb_model_best_iteration.pkl.zip\")"
   ]
  },
  {
   "cell_type": "code",
   "execution_count": 6,
   "metadata": {
    "execution": {
     "iopub.execute_input": "2020-12-21T09:46:36.033945Z",
     "iopub.status.busy": "2020-12-21T09:46:36.032932Z",
     "iopub.status.idle": "2020-12-21T09:46:36.040707Z",
     "shell.execute_reply": "2020-12-21T09:46:36.040015Z"
    },
    "papermill": {
     "duration": 0.031584,
     "end_time": "2020-12-21T09:46:36.040850",
     "exception": false,
     "start_time": "2020-12-21T09:46:36.009266",
     "status": "completed"
    },
    "tags": []
   },
   "outputs": [],
   "source": [
    "optimized_weights = joblib.load(\"../input/lgbm-with-loop-feature-engineering-dataset/optimized_weights.pkl.zip\")"
   ]
  },
  {
   "cell_type": "markdown",
   "metadata": {
    "papermill": {
     "duration": 0.015007,
     "end_time": "2020-12-21T09:46:36.071144",
     "exception": false,
     "start_time": "2020-12-21T09:46:36.056137",
     "status": "completed"
    },
    "tags": []
   },
   "source": [
    "## inference"
   ]
  },
  {
   "cell_type": "code",
   "execution_count": 7,
   "metadata": {
    "_kg_hide-input": true,
    "execution": {
     "iopub.execute_input": "2020-12-21T09:46:36.116370Z",
     "iopub.status.busy": "2020-12-21T09:46:36.115511Z",
     "iopub.status.idle": "2020-12-21T09:46:36.136821Z",
     "shell.execute_reply": "2020-12-21T09:46:36.137487Z"
    },
    "papermill": {
     "duration": 0.051289,
     "end_time": "2020-12-21T09:46:36.137663",
     "exception": false,
     "start_time": "2020-12-21T09:46:36.086374",
     "status": "completed"
    },
    "tags": []
   },
   "outputs": [],
   "source": [
    "class Iter_Valid(object):\n",
    "    def __init__(self, df, max_user=1000):\n",
    "        df = df.reset_index(drop=True)\n",
    "        self.df = df\n",
    "        self.user_answer = df['user_answer'].astype(str).values\n",
    "        self.answered_correctly = df['answered_correctly'].astype(str).values\n",
    "        df['prior_group_responses'] = \"[]\"\n",
    "        df['prior_group_answers_correct'] = \"[]\"\n",
    "        self.sample_df = df[df['content_type_id'] == 0][['row_id']]\n",
    "        self.sample_df['answered_correctly'] = 0\n",
    "        self.len = len(df)\n",
    "        self.user_id = df.user_id.values\n",
    "        self.task_container_id = df.task_container_id.values\n",
    "        self.content_type_id = df.content_type_id.values\n",
    "        self.max_user = max_user\n",
    "        self.current = 0\n",
    "        self.pre_user_answer_list = []\n",
    "        self.pre_answered_correctly_list = []\n",
    "\n",
    "    def __iter__(self):\n",
    "        return self\n",
    "    \n",
    "    def fix_df(self, user_answer_list, answered_correctly_list, pre_start):\n",
    "        df= self.df[pre_start:self.current].copy()\n",
    "        sample_df = self.sample_df[pre_start:self.current].copy()\n",
    "        df.loc[pre_start,'prior_group_responses'] = '[' + \",\".join(self.pre_user_answer_list) + ']'\n",
    "        df.loc[pre_start,'prior_group_answers_correct'] = '[' + \",\".join(self.pre_answered_correctly_list) + ']'\n",
    "        self.pre_user_answer_list = user_answer_list\n",
    "        self.pre_answered_correctly_list = answered_correctly_list\n",
    "        return df, sample_df\n",
    "\n",
    "    def __next__(self):\n",
    "        added_user = set()\n",
    "        pre_start = self.current\n",
    "        pre_added_user = -1\n",
    "        pre_task_container_id = -1\n",
    "        pre_content_type_id = -1\n",
    "        user_answer_list = []\n",
    "        answered_correctly_list = []\n",
    "        while self.current < self.len:\n",
    "            crr_user_id = self.user_id[self.current]\n",
    "            crr_task_container_id = self.task_container_id[self.current]\n",
    "            crr_content_type_id = self.content_type_id[self.current]\n",
    "            if crr_user_id in added_user and (crr_user_id != pre_added_user or (crr_task_container_id != pre_task_container_id and crr_content_type_id == 0 and pre_content_type_id == 0)):\n",
    "                # known user(not prev user or (differnt task container and both question))\n",
    "                return self.fix_df(user_answer_list, answered_correctly_list, pre_start)\n",
    "            if len(added_user) == self.max_user:\n",
    "                if  crr_user_id == pre_added_user and (crr_task_container_id == pre_task_container_id or crr_content_type_id == 1):\n",
    "                    user_answer_list.append(self.user_answer[self.current])\n",
    "                    answered_correctly_list.append(self.answered_correctly[self.current])\n",
    "                    self.current += 1\n",
    "                    continue\n",
    "                else:\n",
    "                    return self.fix_df(user_answer_list, answered_correctly_list, pre_start)\n",
    "            added_user.add(crr_user_id)\n",
    "            pre_added_user = crr_user_id\n",
    "            pre_task_container_id = crr_task_container_id\n",
    "            pre_content_type_id = crr_content_type_id\n",
    "            user_answer_list.append(self.user_answer[self.current])\n",
    "            answered_correctly_list.append(self.answered_correctly[self.current])\n",
    "            self.current += 1\n",
    "        if pre_start < self.current:\n",
    "            return self.fix_df(user_answer_list, answered_correctly_list, pre_start)\n",
    "        else:\n",
    "            raise StopIteration()"
   ]
  },
  {
   "cell_type": "code",
   "execution_count": 8,
   "metadata": {
    "_kg_hide-input": true,
    "execution": {
     "iopub.execute_input": "2020-12-21T09:46:36.174387Z",
     "iopub.status.busy": "2020-12-21T09:46:36.173572Z",
     "iopub.status.idle": "2020-12-21T09:46:36.201789Z",
     "shell.execute_reply": "2020-12-21T09:46:36.202349Z"
    },
    "papermill": {
     "duration": 0.04876,
     "end_time": "2020-12-21T09:46:36.202497",
     "exception": false,
     "start_time": "2020-12-21T09:46:36.153737",
     "status": "completed"
    },
    "tags": []
   },
   "outputs": [],
   "source": [
    "import riiideducation\n",
    "env = riiideducation.make_env()\n",
    "iter_test = env.iter_test()\n",
    "set_predict = env.predict"
   ]
  },
  {
   "cell_type": "code",
   "execution_count": 9,
   "metadata": {
    "execution": {
     "iopub.execute_input": "2020-12-21T09:46:36.241525Z",
     "iopub.status.busy": "2020-12-21T09:46:36.240784Z",
     "iopub.status.idle": "2020-12-21T09:46:36.819819Z",
     "shell.execute_reply": "2020-12-21T09:46:36.820311Z"
    },
    "papermill": {
     "duration": 0.605803,
     "end_time": "2020-12-21T09:46:36.820467",
     "exception": false,
     "start_time": "2020-12-21T09:46:36.214664",
     "status": "completed"
    },
    "scrolled": true,
    "tags": []
   },
   "outputs": [],
   "source": [
    "previous_test_df = None\n",
    "for (test_df, sample_prediction_df) in iter_test:\n",
    "    if previous_test_df is not None:\n",
    "        previous_test_df[TARGET] = eval(test_df[\"prior_group_answers_correct\"].iloc[0])\n",
    "        update_user_feats(previous_test_df, answered_correctly_sum_u_dict, count_u_dict)\n",
    "    previous_test_df = test_df.copy()\n",
    "    test_df = test_df[test_df['content_type_id'] == 0].reset_index(drop=True)\n",
    "    test_df = add_user_feats_without_update(test_df, answered_correctly_sum_u_dict, count_u_dict)\n",
    "    test_df = pd.merge(test_df, content_df, on='content_id',  how=\"left\")\n",
    "    test_df = pd.merge(test_df, questions_df, left_on='content_id', right_on='question_id', how='left')\n",
    "    test_df['prior_question_had_explanation'] = test_df.prior_question_had_explanation.fillna(False).astype('int8')\n",
    "    test_df['prior_question_elapsed_time_mean'] = test_df.prior_question_elapsed_time.fillna(prior_question_elapsed_time_mean)\n",
    "    preds = optimized_weights[0] * model.predict(test_df[FEATS], num_iteration=400)\n",
    "    preds += optimized_weights[1] * model.predict(test_df[FEATS], num_iteration=700)\n",
    "    preds += optimized_weights[2] * model.predict(test_df[FEATS], num_iteration=model.best_iteration)\n",
    "    test_df[TARGET] = preds\n",
    "    set_predict(test_df[['row_id', TARGET]])"
   ]
  },
  {
   "cell_type": "markdown",
   "metadata": {
    "papermill": {
     "duration": 0.011617,
     "end_time": "2020-12-21T09:46:36.844039",
     "exception": false,
     "start_time": "2020-12-21T09:46:36.832422",
     "status": "completed"
    },
    "tags": []
   },
   "source": [
    " "
   ]
  },
  {
   "cell_type": "code",
   "execution_count": null,
   "metadata": {
    "papermill": {
     "duration": 0.011585,
     "end_time": "2020-12-21T09:46:36.867503",
     "exception": false,
     "start_time": "2020-12-21T09:46:36.855918",
     "status": "completed"
    },
    "tags": []
   },
   "outputs": [],
   "source": []
  }
 ],
 "metadata": {
  "kernelspec": {
   "display_name": "Python 3",
   "language": "python",
   "name": "python3"
  },
  "language_info": {
   "codemirror_mode": {
    "name": "ipython",
    "version": 3
   },
   "file_extension": ".py",
   "mimetype": "text/x-python",
   "name": "python",
   "nbconvert_exporter": "python",
   "pygments_lexer": "ipython3",
   "version": "3.7.6"
  },
  "papermill": {
   "duration": 24.468642,
   "end_time": "2020-12-21T09:46:36.987119",
   "environment_variables": {},
   "exception": null,
   "input_path": "__notebook__.ipynb",
   "output_path": "__notebook__.ipynb",
   "parameters": {},
   "start_time": "2020-12-21T09:46:12.518477",
   "version": "2.1.0"
  }
 },
 "nbformat": 4,
 "nbformat_minor": 4
}
