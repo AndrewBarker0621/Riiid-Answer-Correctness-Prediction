{
 "cells": [
  {
   "cell_type": "code",
   "execution_count": 1,
   "metadata": {
    "_cell_guid": "b1076dfc-b9ad-4769-8c92-a6c4dae69d19",
    "_uuid": "8f2839f25d086af736a60e9eeb907d3b93b6e0e5",
    "execution": {
     "iopub.execute_input": "2020-12-21T09:48:25.397708Z",
     "iopub.status.busy": "2020-12-21T09:48:25.394946Z",
     "iopub.status.idle": "2020-12-21T09:48:27.499105Z",
     "shell.execute_reply": "2020-12-21T09:48:27.499723Z"
    },
    "papermill": {
     "duration": 2.119715,
     "end_time": "2020-12-21T09:48:27.499908",
     "exception": false,
     "start_time": "2020-12-21T09:48:25.380193",
     "status": "completed"
    },
    "tags": []
   },
   "outputs": [
    {
     "data": {
      "text/html": [
       "<style type='text/css'>\n",
       ".datatable table.frame { margin-bottom: 0; }\n",
       ".datatable table.frame thead { border-bottom: none; }\n",
       ".datatable table.frame tr.coltypes td {  color: #FFFFFF;  line-height: 6px;  padding: 0 0.5em;}\n",
       ".datatable .bool    { background: #DDDD99; }\n",
       ".datatable .object  { background: #565656; }\n",
       ".datatable .int     { background: #5D9E5D; }\n",
       ".datatable .float   { background: #4040CC; }\n",
       ".datatable .str     { background: #CC4040; }\n",
       ".datatable .row_index {  background: var(--jp-border-color3);  border-right: 1px solid var(--jp-border-color0);  color: var(--jp-ui-font-color3);  font-size: 9px;}\n",
       ".datatable .frame tr.coltypes .row_index {  background: var(--jp-border-color0);}\n",
       ".datatable th:nth-child(2) { padding-left: 12px; }\n",
       ".datatable .hellipsis {  color: var(--jp-cell-editor-border-color);}\n",
       ".datatable .vellipsis {  background: var(--jp-layout-color0);  color: var(--jp-cell-editor-border-color);}\n",
       ".datatable .na {  color: var(--jp-cell-editor-border-color);  font-size: 80%;}\n",
       ".datatable .footer { font-size: 9px; }\n",
       ".datatable .frame_dimensions {  background: var(--jp-border-color3);  border-top: 1px solid var(--jp-border-color0);  color: var(--jp-ui-font-color3);  display: inline-block;  opacity: 0.6;  padding: 1px 10px 1px 5px;}\n",
       ".datatable .frame thead tr.colnames {  background-image: url('data:image/png;base64,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');  background-repeat: repeat-x;  background-size: 14px;  height: 28px;}\n",
       "</style>\n"
      ],
      "text/plain": [
       "<IPython.core.display.HTML object>"
      ]
     },
     "metadata": {},
     "output_type": "display_data"
    }
   ],
   "source": [
    "import riiideducation # enviorment\n",
    "import numpy as np # linear algebra\n",
    "import pandas as pd # data processing, CSV file I/O (e.g. pd.read_csv)\n",
    "import lightgbm as lgb # light gradient boosting model\n",
    "import dask.dataframe as dd # dask fast dataframe importer\n",
    "from sklearn.metrics import roc_auc_score # area under the curve calculator\n",
    "from sklearn.preprocessing import LabelEncoder # label encoder\n",
    "import matplotlib.pyplot as plt # plotting\n",
    "\n",
    "import gc \n",
    "import os \n",
    "import sys\n",
    "\n",
    "\n",
    "training_path           = '/kaggle/input/riiid-test-answer-prediction/train.csv'\n",
    "questions_path          = '/kaggle/input/riiid-test-answer-prediction/questions.csv'\n",
    "lectures_path           = '/kaggle/input/riiid-test-answer-prediction/lectures.csv'\n",
    "example_submission_path = '/kaggle/input/riiid-test-answer-prediction/example_sample_submission.csv'\n",
    "example_test_path       = '/kaggle/input/riiid-test-answer-prediction/example_test.csv'"
   ]
  },
  {
   "cell_type": "code",
   "execution_count": 2,
   "metadata": {
    "_cell_guid": "79c7e3d0-c299-4dcb-8224-4455121ee9b0",
    "_uuid": "d629ff2d2480ee46fbb7e2d37f6b5fab8052498a",
    "execution": {
     "iopub.execute_input": "2020-12-21T09:48:27.525723Z",
     "iopub.status.busy": "2020-12-21T09:48:27.524953Z",
     "iopub.status.idle": "2020-12-21T09:48:27.635489Z",
     "shell.execute_reply": "2020-12-21T09:48:27.636039Z"
    },
    "papermill": {
     "duration": 0.125054,
     "end_time": "2020-12-21T09:48:27.636221",
     "exception": false,
     "start_time": "2020-12-21T09:48:27.511167",
     "status": "completed"
    },
    "tags": []
   },
   "outputs": [],
   "source": [
    "\"\"\"\n",
    "Print the paths for local enviorment input files.\n",
    "\"\"\"\n",
    "def print_paths():\n",
    "    for dirname, _, filenames in os.walk('/kaggle/input'):\n",
    "        for filename in filenames:\n",
    "            print(os.path.join(dirname, filename))\n",
    "            \n",
    "\n",
    "\"\"\"\n",
    "Print the input string to the notebook console. \n",
    "Also prints the input string to Kaggle kenrel.\n",
    "\"\"\"\n",
    "def print_log(s):\n",
    "    print(s)\n",
    "    sys.__stdout__.write(s)\n",
    "    \n",
    "\n",
    "\"\"\"\n",
    "Convert the existing dataframe values to data types.\n",
    "Also replace NaN values with -1. \n",
    "Returns the dataframes for training as well as labels.\n",
    "\"\"\"    \n",
    "def getDataFramesForTraining(dataframe):\n",
    "    data = dataframe[features]\n",
    "    data['prior_question_elapsed_time'].fillna(-1, inplace=True)\n",
    "    return data, dataframe['answered_correctly']\n",
    "\n",
    "\n",
    "\"\"\"\n",
    "Convert the existing dataframe values to data types.\n",
    "Also replace NaN values with -1. \n",
    "Returns the dataframes for testing.\n",
    "\"\"\"\n",
    "def getDataFramesForTesting(dataframe):\n",
    "    data = dataframe[features]\n",
    "    data['prior_question_elapsed_time'].fillna(-1, inplace=True)\n",
    "    return data\n",
    "\n",
    "\n",
    "\"\"\"\n",
    "Convert the existing dataframe values to correct data types.\n",
    "Splice tag column into multiple columns and append them to questions dataframe.\n",
    "Returns the dataframes for questions.\n",
    "\"\"\"\n",
    "def getDataFramesForQuestions(dataframe):\n",
    "    tag = dataframe[\"tags\"].str.split(\" \", n = 10, expand = True) \n",
    "    tag.columns = ['tags1','tags2','tags3','tags4','tags5','tags6']\n",
    "    dataframe =  pd.concat([dataframe,tag], axis=1)\n",
    "    for tag in tag.columns:\n",
    "        dataframe[tag] = pd.to_numeric(dataframe[tag], errors='coerce')\n",
    "    return dataframe\n",
    "\n",
    "\"\"\"\n",
    "Merge in the questions tag columns joining\n",
    "on question_id and content_id.\n",
    "Return the merged dataframe.\n",
    "\"\"\"\n",
    "def mergeQuestions(train, questions):\n",
    "    return pd.merge(train, questions, left_on = 'content_id', right_on = 'question_id', how = 'left') \n",
    "\n",
    "\n",
    "\"\"\"\n",
    "\n",
    "\"\"\"\n",
    "def encodeColumns(dataframe):\n",
    "    lb_make = LabelEncoder()\n",
    "    dataframe['prior_question_had_explanation'].fillna(True, inplace=True)\n",
    "    dataframe[\"prior_question_had_explanation_enc\"] = lb_make.fit_transform(dataframe[\"prior_question_had_explanation\"])\n",
    "    return dataframe\n",
    "\n",
    "\n",
    "\"\"\"\n",
    "\n",
    "\"\"\"\n",
    "def expandTags(questions):\n",
    "    tag = questions[\"tags\"].str.split(\" \", n = 10, expand = True) \n",
    "    tag.columns = ['tags1','tags2','tags3','tags4','tags5','tags6']\n",
    "    questions =  pd.concat([questions,tag],axis=1)\n",
    "    for tag in tag.columns:\n",
    "        questions[tag] = pd.to_numeric(questions[tag], errors='coerce')\n",
    "    return questions\n",
    "\n",
    "\n",
    "\"\"\"\n",
    "\n",
    "\"\"\"\n",
    "def plot_metrics(model, eval_results):\n",
    "    lgb.plot_importance(model)\n",
    "    plt.show()\n",
    "    metrics = ['auc', 'l1', 'l2']\n",
    "    for metric in metrics: \n",
    "        lgb.plot_metric(eval_results, metric=metric)\n",
    "        plt.show()\n",
    "        \n",
    "\n",
    "\"\"\"\n",
    "\n",
    "\"\"\"\n",
    "def createSubmission(model):\n",
    "    env = riiideducation.make_env()\n",
    "    for test_df, sample_prediction_df in env.iter_test():\n",
    "        test_df_enc = encodeColumns(test_df)\n",
    "        test_df_enc = mergeQuestions(test_df_enc, questions)\n",
    "        testdata = getDataFramesForTesting(test_df_enc)\n",
    "        test_df['answered_correctly'] =  model.predict(testdata[features])\n",
    "        env.predict(test_df.loc[test_df['content_type_id'] == 0, ['row_id', 'answered_correctly']])\n",
    "        \n",
    "\n",
    "\"\"\"\n",
    "\n",
    "\"\"\"\n",
    "def splitTrainValid(train, labels):\n",
    "    trainingCount = int(len(labels.index) * training_valid_ratio)\n",
    "    train_dataset = lgb.Dataset(train[:trainingCount], labels[:trainingCount], categorical_feature = categorical_features)\n",
    "    valid_dataset = lgb.Dataset(train[trainingCount:], labels[trainingCount:], categorical_feature = categorical_features)\n",
    "    return train_dataset, valid_dataset"
   ]
  },
  {
   "cell_type": "code",
   "execution_count": 3,
   "metadata": {
    "execution": {
     "iopub.execute_input": "2020-12-21T09:48:27.661274Z",
     "iopub.status.busy": "2020-12-21T09:48:27.660549Z",
     "iopub.status.idle": "2020-12-21T09:48:27.674797Z",
     "shell.execute_reply": "2020-12-21T09:48:27.675712Z"
    },
    "papermill": {
     "duration": 0.029068,
     "end_time": "2020-12-21T09:48:27.675960",
     "exception": false,
     "start_time": "2020-12-21T09:48:27.646892",
     "status": "completed"
    },
    "tags": []
   },
   "outputs": [],
   "source": [
    "features = ['content_id', 'prior_question_elapsed_time', 'prior_question_had_explanation_enc', 'tags1','tags2','tags3','tags4']\n",
    "categorical_features = ['tags1','tags2','tags3','tags4']\n",
    "\n",
    "training_cols = ['content_id', 'prior_question_elapsed_time', 'prior_question_had_explanation', 'answered_correctly']\n",
    "question_cols = [0, 1, 3, 4]\n",
    "\n",
    "training_dtype = {'content_id': 'int16','content_type_id': 'int8','answered_correctly':'int8','prior_question_elapsed_time': 'float32','prior_question_had_explanation': 'boolean'}\n",
    "question_dtype = {'question_id': 'int16', 'part': 'int8','bundle_id': 'int8','tags': 'str'}\n",
    "\n",
    "million = 1000000\n",
    "training_valid_ratio = 0.9\n",
    "max_iterations = 1000\n",
    "eval_round = 10\n",
    "eval_results = {}\n",
    "\n",
    "training_params = {'objective'            : 'binary',\n",
    "                   'metric'               :('auc', 'l1', 'l2'),\n",
    "                   'boosting'             : 'gbdt',\n",
    "                   'tree_learner'         : 'voting',\n",
    "                   'learning_rate'        :  0.11,\n",
    "                   'num_leaves'           :  80,\n",
    "                   'min_data_in_leaf'     :  20,\n",
    "                   'early_stopping_rounds':  10}"
   ]
  },
  {
   "cell_type": "code",
   "execution_count": 4,
   "metadata": {
    "execution": {
     "iopub.execute_input": "2020-12-21T09:48:27.720341Z",
     "iopub.status.busy": "2020-12-21T09:48:27.719668Z",
     "iopub.status.idle": "2020-12-21T09:51:17.634953Z",
     "shell.execute_reply": "2020-12-21T09:51:17.635597Z"
    },
    "papermill": {
     "duration": 169.94044,
     "end_time": "2020-12-21T09:51:17.635773",
     "exception": false,
     "start_time": "2020-12-21T09:48:27.695333",
     "status": "completed"
    },
    "tags": []
   },
   "outputs": [
    {
     "name": "stdout",
     "output_type": "stream",
     "text": [
      "Done reading training data.\n"
     ]
    }
   ],
   "source": [
    "train = pd.read_csv(training_path, nrows=60*million, engine='c', usecols=training_cols, dtype=training_dtype)\n",
    "\n",
    "gc.collect()\n",
    "print_log('Done reading training data.')"
   ]
  },
  {
   "cell_type": "code",
   "execution_count": 5,
   "metadata": {
    "execution": {
     "iopub.execute_input": "2020-12-21T09:51:17.674107Z",
     "iopub.status.busy": "2020-12-21T09:51:17.673250Z",
     "iopub.status.idle": "2020-12-21T09:51:17.777406Z",
     "shell.execute_reply": "2020-12-21T09:51:17.777937Z"
    },
    "papermill": {
     "duration": 0.125881,
     "end_time": "2020-12-21T09:51:17.778133",
     "exception": false,
     "start_time": "2020-12-21T09:51:17.652252",
     "status": "completed"
    },
    "tags": []
   },
   "outputs": [
    {
     "name": "stdout",
     "output_type": "stream",
     "text": [
      "Done reading questions data.\n"
     ]
    }
   ],
   "source": [
    "questions = pd.read_csv(questions_path, usecols=question_cols, dtype=question_dtype)\n",
    "\n",
    "gc.collect()\n",
    "print_log('Done reading questions data.')"
   ]
  },
  {
   "cell_type": "code",
   "execution_count": 6,
   "metadata": {
    "execution": {
     "iopub.execute_input": "2020-12-21T09:51:17.837120Z",
     "iopub.status.busy": "2020-12-21T09:51:17.831824Z",
     "iopub.status.idle": "2020-12-21T09:51:17.982009Z",
     "shell.execute_reply": "2020-12-21T09:51:17.981300Z"
    },
    "papermill": {
     "duration": 0.192296,
     "end_time": "2020-12-21T09:51:17.982134",
     "exception": false,
     "start_time": "2020-12-21T09:51:17.789838",
     "status": "completed"
    },
    "tags": []
   },
   "outputs": [
    {
     "name": "stdout",
     "output_type": "stream",
     "text": [
      "Done grabbing tags.\n"
     ]
    }
   ],
   "source": [
    "questions = expandTags(questions)\n",
    "\n",
    "gc.collect()\n",
    "print_log('Done grabbing tags.')"
   ]
  },
  {
   "cell_type": "code",
   "execution_count": 7,
   "metadata": {
    "execution": {
     "iopub.execute_input": "2020-12-21T09:51:18.012233Z",
     "iopub.status.busy": "2020-12-21T09:51:18.011342Z",
     "iopub.status.idle": "2020-12-21T09:51:34.202452Z",
     "shell.execute_reply": "2020-12-21T09:51:34.201824Z"
    },
    "papermill": {
     "duration": 16.208495,
     "end_time": "2020-12-21T09:51:34.202587",
     "exception": false,
     "start_time": "2020-12-21T09:51:17.994092",
     "status": "completed"
    },
    "tags": []
   },
   "outputs": [
    {
     "name": "stdout",
     "output_type": "stream",
     "text": [
      "Done merging questions.\n"
     ]
    }
   ],
   "source": [
    "train = mergeQuestions(train, questions)\n",
    "\n",
    "gc.collect()\n",
    "print_log('Done merging questions.')"
   ]
  },
  {
   "cell_type": "code",
   "execution_count": 8,
   "metadata": {
    "execution": {
     "iopub.execute_input": "2020-12-21T09:51:34.235336Z",
     "iopub.status.busy": "2020-12-21T09:51:34.234143Z",
     "iopub.status.idle": "2020-12-21T09:51:55.711790Z",
     "shell.execute_reply": "2020-12-21T09:51:55.712377Z"
    },
    "papermill": {
     "duration": 21.497392,
     "end_time": "2020-12-21T09:51:55.712591",
     "exception": false,
     "start_time": "2020-12-21T09:51:34.215199",
     "status": "completed"
    },
    "tags": []
   },
   "outputs": [
    {
     "name": "stdout",
     "output_type": "stream",
     "text": [
      "Done encoding columns.\n"
     ]
    }
   ],
   "source": [
    "train = encodeColumns(train)\n",
    "\n",
    "gc.collect()\n",
    "print_log('Done encoding columns.')"
   ]
  },
  {
   "cell_type": "code",
   "execution_count": 9,
   "metadata": {
    "execution": {
     "iopub.execute_input": "2020-12-21T09:51:55.743087Z",
     "iopub.status.busy": "2020-12-21T09:51:55.742052Z",
     "iopub.status.idle": "2020-12-21T09:52:05.000787Z",
     "shell.execute_reply": "2020-12-21T09:52:04.999635Z"
    },
    "papermill": {
     "duration": 9.274908,
     "end_time": "2020-12-21T09:52:05.000927",
     "exception": false,
     "start_time": "2020-12-21T09:51:55.726019",
     "status": "completed"
    },
    "tags": []
   },
   "outputs": [
    {
     "name": "stderr",
     "output_type": "stream",
     "text": [
      "/opt/conda/lib/python3.7/site-packages/pandas/core/series.py:4536: SettingWithCopyWarning: \n",
      "A value is trying to be set on a copy of a slice from a DataFrame\n",
      "\n",
      "See the caveats in the documentation: https://pandas.pydata.org/pandas-docs/stable/user_guide/indexing.html#returning-a-view-versus-a-copy\n",
      "  downcast=downcast,\n"
     ]
    },
    {
     "name": "stdout",
     "output_type": "stream",
     "text": [
      "Done labelling data.\n"
     ]
    }
   ],
   "source": [
    "train, labels = getDataFramesForTraining(train)\n",
    "\n",
    "gc.collect()\n",
    "print_log('Done labelling data.')"
   ]
  },
  {
   "cell_type": "code",
   "execution_count": 10,
   "metadata": {
    "execution": {
     "iopub.execute_input": "2020-12-21T09:52:05.032423Z",
     "iopub.status.busy": "2020-12-21T09:52:05.031753Z",
     "iopub.status.idle": "2020-12-21T09:52:05.116791Z",
     "shell.execute_reply": "2020-12-21T09:52:05.117342Z"
    },
    "papermill": {
     "duration": 0.102595,
     "end_time": "2020-12-21T09:52:05.117521",
     "exception": false,
     "start_time": "2020-12-21T09:52:05.014926",
     "status": "completed"
    },
    "tags": []
   },
   "outputs": [
    {
     "name": "stdout",
     "output_type": "stream",
     "text": [
      "Done splitting training and valid.\n"
     ]
    }
   ],
   "source": [
    "train_dataset, valid_dataset = splitTrainValid(train, labels)\n",
    "\n",
    "gc.collect()\n",
    "print_log('Done splitting training and valid.')"
   ]
  },
  {
   "cell_type": "code",
   "execution_count": 11,
   "metadata": {
    "execution": {
     "iopub.execute_input": "2020-12-21T09:52:05.150409Z",
     "iopub.status.busy": "2020-12-21T09:52:05.149717Z",
     "iopub.status.idle": "2020-12-21T14:26:09.573600Z",
     "shell.execute_reply": "2020-12-21T14:26:09.574551Z"
    },
    "papermill": {
     "duration": 16444.442682,
     "end_time": "2020-12-21T14:26:09.574792",
     "exception": false,
     "start_time": "2020-12-21T09:52:05.132110",
     "status": "completed"
    },
    "tags": []
   },
   "outputs": [
    {
     "name": "stderr",
     "output_type": "stream",
     "text": [
      "/opt/conda/lib/python3.7/site-packages/lightgbm/engine.py:153: UserWarning: Found `early_stopping_rounds` in params. Will use it instead of argument\n",
      "  warnings.warn(\"Found `{}` in params. Will use it instead of argument\".format(alias))\n",
      "/opt/conda/lib/python3.7/site-packages/lightgbm/basic.py:1291: UserWarning: Using categorical_feature in Dataset.\n",
      "  warnings.warn('Using categorical_feature in Dataset.')\n"
     ]
    },
    {
     "name": "stdout",
     "output_type": "stream",
     "text": [
      "Training until validation scores don't improve for 10 rounds\n",
      "[10]\ttraining's auc: 0.652122\ttraining's l1: 0.451039\ttraining's l2: 0.238438\tvalid_1's auc: 0.652048\tvalid_1's l1: 0.451266\tvalid_1's l2: 0.238288\n",
      "[20]\ttraining's auc: 0.660008\ttraining's l1: 0.441504\ttraining's l2: 0.229995\tvalid_1's auc: 0.659798\tvalid_1's l1: 0.441861\tvalid_1's l2: 0.229977\n",
      "[30]\ttraining's auc: 0.666795\ttraining's l1: 0.437069\ttraining's l2: 0.226771\tvalid_1's auc: 0.666564\tvalid_1's l1: 0.43748\tvalid_1's l2: 0.226794\n",
      "[40]\ttraining's auc: 0.671001\ttraining's l1: 0.434847\ttraining's l2: 0.225328\tvalid_1's auc: 0.670717\tvalid_1's l1: 0.435279\tvalid_1's l2: 0.225369\n",
      "[50]\ttraining's auc: 0.675229\ttraining's l1: 0.433232\ttraining's l2: 0.224353\tvalid_1's auc: 0.674938\tvalid_1's l1: 0.433672\tvalid_1's l2: 0.224397\n",
      "[60]\ttraining's auc: 0.678835\ttraining's l1: 0.431967\ttraining's l2: 0.223623\tvalid_1's auc: 0.678529\tvalid_1's l1: 0.432417\tvalid_1's l2: 0.223671\n",
      "[70]\ttraining's auc: 0.681724\ttraining's l1: 0.430927\ttraining's l2: 0.22304\tvalid_1's auc: 0.681419\tvalid_1's l1: 0.431382\tvalid_1's l2: 0.223088\n",
      "[80]\ttraining's auc: 0.684301\ttraining's l1: 0.429854\ttraining's l2: 0.22248\tvalid_1's auc: 0.68399\tvalid_1's l1: 0.43031\tvalid_1's l2: 0.222528\n",
      "[90]\ttraining's auc: 0.686445\ttraining's l1: 0.428923\ttraining's l2: 0.222017\tvalid_1's auc: 0.686143\tvalid_1's l1: 0.429381\tvalid_1's l2: 0.222064\n",
      "[100]\ttraining's auc: 0.688279\ttraining's l1: 0.428244\ttraining's l2: 0.221648\tvalid_1's auc: 0.687964\tvalid_1's l1: 0.428707\tvalid_1's l2: 0.221695\n",
      "[110]\ttraining's auc: 0.689761\ttraining's l1: 0.427583\ttraining's l2: 0.221312\tvalid_1's auc: 0.689435\tvalid_1's l1: 0.428051\tvalid_1's l2: 0.221361\n",
      "[120]\ttraining's auc: 0.691002\ttraining's l1: 0.427055\ttraining's l2: 0.22104\tvalid_1's auc: 0.690652\tvalid_1's l1: 0.427529\tvalid_1's l2: 0.221092\n",
      "[130]\ttraining's auc: 0.692206\ttraining's l1: 0.426479\ttraining's l2: 0.220771\tvalid_1's auc: 0.691871\tvalid_1's l1: 0.426952\tvalid_1's l2: 0.220822\n",
      "[140]\ttraining's auc: 0.693292\ttraining's l1: 0.426002\ttraining's l2: 0.220533\tvalid_1's auc: 0.692955\tvalid_1's l1: 0.426477\tvalid_1's l2: 0.220582\n",
      "[150]\ttraining's auc: 0.694476\ttraining's l1: 0.425503\ttraining's l2: 0.220273\tvalid_1's auc: 0.694151\tvalid_1's l1: 0.425978\tvalid_1's l2: 0.22032\n",
      "[160]\ttraining's auc: 0.695356\ttraining's l1: 0.425065\ttraining's l2: 0.220061\tvalid_1's auc: 0.695022\tvalid_1's l1: 0.425546\tvalid_1's l2: 0.220108\n",
      "[170]\ttraining's auc: 0.696338\ttraining's l1: 0.424642\ttraining's l2: 0.219843\tvalid_1's auc: 0.696016\tvalid_1's l1: 0.425123\tvalid_1's l2: 0.219888\n",
      "[180]\ttraining's auc: 0.697102\ttraining's l1: 0.424265\ttraining's l2: 0.219659\tvalid_1's auc: 0.696782\tvalid_1's l1: 0.424748\tvalid_1's l2: 0.219704\n",
      "[190]\ttraining's auc: 0.697703\ttraining's l1: 0.423917\ttraining's l2: 0.219504\tvalid_1's auc: 0.697386\tvalid_1's l1: 0.424401\tvalid_1's l2: 0.219549\n",
      "[200]\ttraining's auc: 0.698419\ttraining's l1: 0.423549\ttraining's l2: 0.219333\tvalid_1's auc: 0.698098\tvalid_1's l1: 0.424032\tvalid_1's l2: 0.219377\n",
      "[210]\ttraining's auc: 0.698888\ttraining's l1: 0.423307\ttraining's l2: 0.219226\tvalid_1's auc: 0.698563\tvalid_1's l1: 0.423793\tvalid_1's l2: 0.21927\n",
      "[220]\ttraining's auc: 0.699337\ttraining's l1: 0.423039\ttraining's l2: 0.219115\tvalid_1's auc: 0.69901\tvalid_1's l1: 0.423524\tvalid_1's l2: 0.219159\n",
      "[230]\ttraining's auc: 0.699793\ttraining's l1: 0.422777\ttraining's l2: 0.219004\tvalid_1's auc: 0.699468\tvalid_1's l1: 0.423261\tvalid_1's l2: 0.219047\n",
      "[240]\ttraining's auc: 0.700189\ttraining's l1: 0.422515\ttraining's l2: 0.218901\tvalid_1's auc: 0.699856\tvalid_1's l1: 0.423006\tvalid_1's l2: 0.218946\n",
      "[250]\ttraining's auc: 0.700626\ttraining's l1: 0.422226\ttraining's l2: 0.218786\tvalid_1's auc: 0.700295\tvalid_1's l1: 0.422719\tvalid_1's l2: 0.218831\n",
      "[260]\ttraining's auc: 0.700946\ttraining's l1: 0.422008\ttraining's l2: 0.218699\tvalid_1's auc: 0.700607\tvalid_1's l1: 0.422507\tvalid_1's l2: 0.218745\n",
      "[270]\ttraining's auc: 0.701243\ttraining's l1: 0.421787\ttraining's l2: 0.218617\tvalid_1's auc: 0.700897\tvalid_1's l1: 0.422288\tvalid_1's l2: 0.218663\n",
      "[280]\ttraining's auc: 0.70162\ttraining's l1: 0.421551\ttraining's l2: 0.218521\tvalid_1's auc: 0.701278\tvalid_1's l1: 0.422052\tvalid_1's l2: 0.218566\n",
      "[290]\ttraining's auc: 0.701915\ttraining's l1: 0.421352\ttraining's l2: 0.218442\tvalid_1's auc: 0.701574\tvalid_1's l1: 0.421854\tvalid_1's l2: 0.218489\n",
      "[300]\ttraining's auc: 0.702362\ttraining's l1: 0.421056\ttraining's l2: 0.218327\tvalid_1's auc: 0.702024\tvalid_1's l1: 0.421557\tvalid_1's l2: 0.218373\n",
      "[310]\ttraining's auc: 0.702632\ttraining's l1: 0.42088\ttraining's l2: 0.218256\tvalid_1's auc: 0.7023\tvalid_1's l1: 0.42138\tvalid_1's l2: 0.218301\n",
      "[320]\ttraining's auc: 0.702856\ttraining's l1: 0.420717\ttraining's l2: 0.218196\tvalid_1's auc: 0.702531\tvalid_1's l1: 0.421216\tvalid_1's l2: 0.218238\n",
      "[330]\ttraining's auc: 0.703073\ttraining's l1: 0.42055\ttraining's l2: 0.218135\tvalid_1's auc: 0.702744\tvalid_1's l1: 0.42105\tvalid_1's l2: 0.218178\n",
      "[340]\ttraining's auc: 0.703296\ttraining's l1: 0.420381\ttraining's l2: 0.218075\tvalid_1's auc: 0.702965\tvalid_1's l1: 0.420881\tvalid_1's l2: 0.218119\n",
      "[350]\ttraining's auc: 0.703473\ttraining's l1: 0.420236\ttraining's l2: 0.218025\tvalid_1's auc: 0.703135\tvalid_1's l1: 0.42074\tvalid_1's l2: 0.21807\n",
      "[360]\ttraining's auc: 0.703667\ttraining's l1: 0.420076\ttraining's l2: 0.217972\tvalid_1's auc: 0.703324\tvalid_1's l1: 0.420581\tvalid_1's l2: 0.218018\n",
      "[370]\ttraining's auc: 0.703839\ttraining's l1: 0.419935\ttraining's l2: 0.217926\tvalid_1's auc: 0.703496\tvalid_1's l1: 0.42044\tvalid_1's l2: 0.217972\n",
      "[380]\ttraining's auc: 0.70403\ttraining's l1: 0.419753\ttraining's l2: 0.21787\tvalid_1's auc: 0.703687\tvalid_1's l1: 0.420258\tvalid_1's l2: 0.217916\n",
      "[390]\ttraining's auc: 0.704242\ttraining's l1: 0.419588\ttraining's l2: 0.217815\tvalid_1's auc: 0.7039\tvalid_1's l1: 0.420092\tvalid_1's l2: 0.21786\n",
      "[400]\ttraining's auc: 0.704394\ttraining's l1: 0.419452\ttraining's l2: 0.217773\tvalid_1's auc: 0.704051\tvalid_1's l1: 0.419956\tvalid_1's l2: 0.217818\n",
      "[410]\ttraining's auc: 0.704536\ttraining's l1: 0.419318\ttraining's l2: 0.217731\tvalid_1's auc: 0.704187\tvalid_1's l1: 0.419823\tvalid_1's l2: 0.217777\n",
      "[420]\ttraining's auc: 0.704633\ttraining's l1: 0.419215\ttraining's l2: 0.217702\tvalid_1's auc: 0.70428\tvalid_1's l1: 0.41972\tvalid_1's l2: 0.217748\n",
      "[430]\ttraining's auc: 0.704732\ttraining's l1: 0.419129\ttraining's l2: 0.217674\tvalid_1's auc: 0.70437\tvalid_1's l1: 0.419637\tvalid_1's l2: 0.217722\n",
      "[440]\ttraining's auc: 0.704864\ttraining's l1: 0.419027\ttraining's l2: 0.217641\tvalid_1's auc: 0.704499\tvalid_1's l1: 0.419536\tvalid_1's l2: 0.217689\n",
      "[450]\ttraining's auc: 0.705001\ttraining's l1: 0.418912\ttraining's l2: 0.217605\tvalid_1's auc: 0.704633\tvalid_1's l1: 0.419421\tvalid_1's l2: 0.217653\n",
      "[460]\ttraining's auc: 0.705119\ttraining's l1: 0.418784\ttraining's l2: 0.21757\tvalid_1's auc: 0.70475\tvalid_1's l1: 0.419294\tvalid_1's l2: 0.217618\n",
      "[470]\ttraining's auc: 0.705204\ttraining's l1: 0.418701\ttraining's l2: 0.217543\tvalid_1's auc: 0.70483\tvalid_1's l1: 0.419212\tvalid_1's l2: 0.217593\n",
      "[480]\ttraining's auc: 0.705326\ttraining's l1: 0.418588\ttraining's l2: 0.217507\tvalid_1's auc: 0.704947\tvalid_1's l1: 0.419102\tvalid_1's l2: 0.217558\n",
      "[490]\ttraining's auc: 0.705417\ttraining's l1: 0.418506\ttraining's l2: 0.217481\tvalid_1's auc: 0.705033\tvalid_1's l1: 0.419023\tvalid_1's l2: 0.217533\n",
      "[500]\ttraining's auc: 0.70549\ttraining's l1: 0.418443\ttraining's l2: 0.217459\tvalid_1's auc: 0.705103\tvalid_1's l1: 0.418962\tvalid_1's l2: 0.217512\n",
      "[510]\ttraining's auc: 0.705575\ttraining's l1: 0.418357\ttraining's l2: 0.217434\tvalid_1's auc: 0.705182\tvalid_1's l1: 0.418879\tvalid_1's l2: 0.217488\n",
      "[520]\ttraining's auc: 0.70566\ttraining's l1: 0.418283\ttraining's l2: 0.21741\tvalid_1's auc: 0.705264\tvalid_1's l1: 0.418806\tvalid_1's l2: 0.217464\n",
      "[530]\ttraining's auc: 0.705747\ttraining's l1: 0.418199\ttraining's l2: 0.217385\tvalid_1's auc: 0.705347\tvalid_1's l1: 0.418723\tvalid_1's l2: 0.21744\n",
      "[540]\ttraining's auc: 0.70583\ttraining's l1: 0.418115\ttraining's l2: 0.217362\tvalid_1's auc: 0.705427\tvalid_1's l1: 0.418642\tvalid_1's l2: 0.217418\n",
      "[550]\ttraining's auc: 0.705911\ttraining's l1: 0.41803\ttraining's l2: 0.217338\tvalid_1's auc: 0.705508\tvalid_1's l1: 0.418558\tvalid_1's l2: 0.217394\n",
      "[560]\ttraining's auc: 0.705969\ttraining's l1: 0.417966\ttraining's l2: 0.217322\tvalid_1's auc: 0.705562\tvalid_1's l1: 0.418496\tvalid_1's l2: 0.217378\n",
      "[570]\ttraining's auc: 0.706016\ttraining's l1: 0.417916\ttraining's l2: 0.217308\tvalid_1's auc: 0.705606\tvalid_1's l1: 0.418447\tvalid_1's l2: 0.217365\n",
      "[580]\ttraining's auc: 0.706083\ttraining's l1: 0.417838\ttraining's l2: 0.217287\tvalid_1's auc: 0.705666\tvalid_1's l1: 0.418372\tvalid_1's l2: 0.217346\n",
      "[590]\ttraining's auc: 0.706147\ttraining's l1: 0.417783\ttraining's l2: 0.217269\tvalid_1's auc: 0.705721\tvalid_1's l1: 0.418319\tvalid_1's l2: 0.21733\n",
      "[600]\ttraining's auc: 0.706186\ttraining's l1: 0.417747\ttraining's l2: 0.217258\tvalid_1's auc: 0.705754\tvalid_1's l1: 0.418285\tvalid_1's l2: 0.217321\n",
      "[610]\ttraining's auc: 0.706256\ttraining's l1: 0.417678\ttraining's l2: 0.217238\tvalid_1's auc: 0.705819\tvalid_1's l1: 0.418216\tvalid_1's l2: 0.217301\n",
      "[620]\ttraining's auc: 0.706302\ttraining's l1: 0.417639\ttraining's l2: 0.217226\tvalid_1's auc: 0.705858\tvalid_1's l1: 0.418178\tvalid_1's l2: 0.21729\n",
      "[630]\ttraining's auc: 0.706365\ttraining's l1: 0.417574\ttraining's l2: 0.217207\tvalid_1's auc: 0.705915\tvalid_1's l1: 0.418114\tvalid_1's l2: 0.217273\n",
      "[640]\ttraining's auc: 0.706455\ttraining's l1: 0.41748\ttraining's l2: 0.217182\tvalid_1's auc: 0.706006\tvalid_1's l1: 0.418021\tvalid_1's l2: 0.217247\n",
      "[650]\ttraining's auc: 0.7065\ttraining's l1: 0.417427\ttraining's l2: 0.217167\tvalid_1's auc: 0.706045\tvalid_1's l1: 0.41797\tvalid_1's l2: 0.217234\n",
      "[660]\ttraining's auc: 0.706566\ttraining's l1: 0.417363\ttraining's l2: 0.217149\tvalid_1's auc: 0.706108\tvalid_1's l1: 0.417907\tvalid_1's l2: 0.217216\n",
      "[670]\ttraining's auc: 0.706625\ttraining's l1: 0.417309\ttraining's l2: 0.217133\tvalid_1's auc: 0.706159\tvalid_1's l1: 0.417855\tvalid_1's l2: 0.217201\n",
      "[680]\ttraining's auc: 0.70666\ttraining's l1: 0.417272\ttraining's l2: 0.217123\tvalid_1's auc: 0.706189\tvalid_1's l1: 0.417819\tvalid_1's l2: 0.217193\n",
      "[690]\ttraining's auc: 0.706696\ttraining's l1: 0.417231\ttraining's l2: 0.217112\tvalid_1's auc: 0.706218\tvalid_1's l1: 0.41778\tvalid_1's l2: 0.217183\n",
      "[700]\ttraining's auc: 0.706753\ttraining's l1: 0.417173\ttraining's l2: 0.217096\tvalid_1's auc: 0.706266\tvalid_1's l1: 0.417724\tvalid_1's l2: 0.217169\n",
      "[710]\ttraining's auc: 0.706784\ttraining's l1: 0.417142\ttraining's l2: 0.217086\tvalid_1's auc: 0.70629\tvalid_1's l1: 0.417695\tvalid_1's l2: 0.217161\n",
      "[720]\ttraining's auc: 0.706823\ttraining's l1: 0.41709\ttraining's l2: 0.217074\tvalid_1's auc: 0.706324\tvalid_1's l1: 0.417645\tvalid_1's l2: 0.21715\n",
      "[730]\ttraining's auc: 0.70686\ttraining's l1: 0.417058\ttraining's l2: 0.217064\tvalid_1's auc: 0.706351\tvalid_1's l1: 0.417615\tvalid_1's l2: 0.217142\n",
      "[740]\ttraining's auc: 0.706899\ttraining's l1: 0.417007\ttraining's l2: 0.217053\tvalid_1's auc: 0.706383\tvalid_1's l1: 0.417565\tvalid_1's l2: 0.217132\n",
      "[750]\ttraining's auc: 0.706939\ttraining's l1: 0.416967\ttraining's l2: 0.217041\tvalid_1's auc: 0.70642\tvalid_1's l1: 0.417526\tvalid_1's l2: 0.217121\n",
      "[760]\ttraining's auc: 0.706983\ttraining's l1: 0.416915\ttraining's l2: 0.217028\tvalid_1's auc: 0.706459\tvalid_1's l1: 0.417474\tvalid_1's l2: 0.21711\n",
      "[770]\ttraining's auc: 0.707009\ttraining's l1: 0.41689\ttraining's l2: 0.217021\tvalid_1's auc: 0.706477\tvalid_1's l1: 0.417452\tvalid_1's l2: 0.217104\n",
      "[780]\ttraining's auc: 0.707041\ttraining's l1: 0.416859\ttraining's l2: 0.217012\tvalid_1's auc: 0.706499\tvalid_1's l1: 0.417423\tvalid_1's l2: 0.217097\n",
      "[790]\ttraining's auc: 0.707073\ttraining's l1: 0.416824\ttraining's l2: 0.217003\tvalid_1's auc: 0.706523\tvalid_1's l1: 0.417391\tvalid_1's l2: 0.21709\n",
      "[800]\ttraining's auc: 0.707111\ttraining's l1: 0.416782\ttraining's l2: 0.216992\tvalid_1's auc: 0.706554\tvalid_1's l1: 0.41735\tvalid_1's l2: 0.217081\n",
      "[810]\ttraining's auc: 0.707139\ttraining's l1: 0.416758\ttraining's l2: 0.216985\tvalid_1's auc: 0.706572\tvalid_1's l1: 0.417328\tvalid_1's l2: 0.217076\n",
      "[820]\ttraining's auc: 0.707169\ttraining's l1: 0.416734\ttraining's l2: 0.216977\tvalid_1's auc: 0.706593\tvalid_1's l1: 0.417307\tvalid_1's l2: 0.21707\n",
      "[830]\ttraining's auc: 0.707207\ttraining's l1: 0.416694\ttraining's l2: 0.216966\tvalid_1's auc: 0.706621\tvalid_1's l1: 0.41727\tvalid_1's l2: 0.217061\n",
      "[840]\ttraining's auc: 0.707242\ttraining's l1: 0.416657\ttraining's l2: 0.216956\tvalid_1's auc: 0.706646\tvalid_1's l1: 0.417236\tvalid_1's l2: 0.217054\n",
      "[850]\ttraining's auc: 0.707272\ttraining's l1: 0.416625\ttraining's l2: 0.216948\tvalid_1's auc: 0.70667\tvalid_1's l1: 0.417205\tvalid_1's l2: 0.217046\n",
      "[860]\ttraining's auc: 0.707307\ttraining's l1: 0.416585\ttraining's l2: 0.216937\tvalid_1's auc: 0.706699\tvalid_1's l1: 0.417168\tvalid_1's l2: 0.217037\n",
      "[870]\ttraining's auc: 0.707337\ttraining's l1: 0.416547\ttraining's l2: 0.216929\tvalid_1's auc: 0.706725\tvalid_1's l1: 0.417131\tvalid_1's l2: 0.21703\n",
      "[880]\ttraining's auc: 0.70737\ttraining's l1: 0.41651\ttraining's l2: 0.216919\tvalid_1's auc: 0.706751\tvalid_1's l1: 0.417096\tvalid_1's l2: 0.217022\n",
      "[890]\ttraining's auc: 0.707396\ttraining's l1: 0.416486\ttraining's l2: 0.216912\tvalid_1's auc: 0.706769\tvalid_1's l1: 0.417075\tvalid_1's l2: 0.217017\n",
      "[900]\ttraining's auc: 0.707421\ttraining's l1: 0.41647\ttraining's l2: 0.216906\tvalid_1's auc: 0.70678\tvalid_1's l1: 0.417062\tvalid_1's l2: 0.217014\n",
      "[910]\ttraining's auc: 0.707465\ttraining's l1: 0.416436\ttraining's l2: 0.216895\tvalid_1's auc: 0.706811\tvalid_1's l1: 0.417031\tvalid_1's l2: 0.217006\n",
      "[920]\ttraining's auc: 0.707499\ttraining's l1: 0.416397\ttraining's l2: 0.216885\tvalid_1's auc: 0.706837\tvalid_1's l1: 0.416993\tvalid_1's l2: 0.216998\n",
      "[930]\ttraining's auc: 0.707533\ttraining's l1: 0.416364\ttraining's l2: 0.216876\tvalid_1's auc: 0.706861\tvalid_1's l1: 0.416963\tvalid_1's l2: 0.216991\n",
      "[940]\ttraining's auc: 0.707558\ttraining's l1: 0.416336\ttraining's l2: 0.216868\tvalid_1's auc: 0.706877\tvalid_1's l1: 0.416937\tvalid_1's l2: 0.216985\n",
      "[950]\ttraining's auc: 0.707582\ttraining's l1: 0.416303\ttraining's l2: 0.216861\tvalid_1's auc: 0.706893\tvalid_1's l1: 0.416906\tvalid_1's l2: 0.21698\n",
      "[960]\ttraining's auc: 0.707625\ttraining's l1: 0.41625\ttraining's l2: 0.216848\tvalid_1's auc: 0.706931\tvalid_1's l1: 0.416854\tvalid_1's l2: 0.216968\n",
      "[970]\ttraining's auc: 0.707646\ttraining's l1: 0.416228\ttraining's l2: 0.216842\tvalid_1's auc: 0.706942\tvalid_1's l1: 0.416835\tvalid_1's l2: 0.216965\n",
      "[980]\ttraining's auc: 0.707662\ttraining's l1: 0.416214\ttraining's l2: 0.216838\tvalid_1's auc: 0.706948\tvalid_1's l1: 0.416823\tvalid_1's l2: 0.216963\n",
      "[990]\ttraining's auc: 0.707688\ttraining's l1: 0.416184\ttraining's l2: 0.216831\tvalid_1's auc: 0.706965\tvalid_1's l1: 0.416794\tvalid_1's l2: 0.216957\n",
      "[1000]\ttraining's auc: 0.707721\ttraining's l1: 0.416137\ttraining's l2: 0.216821\tvalid_1's auc: 0.706994\tvalid_1's l1: 0.416748\tvalid_1's l2: 0.216948\n",
      "Did not meet early stopping. Best iteration is:\n",
      "[1000]\ttraining's auc: 0.707721\ttraining's l1: 0.416137\ttraining's l2: 0.216821\tvalid_1's auc: 0.706994\tvalid_1's l1: 0.416748\tvalid_1's l2: 0.216948\n",
      "Done training.\n"
     ]
    }
   ],
   "source": [
    "model = lgb.train(training_params, train_dataset, valid_sets=[train_dataset, valid_dataset], num_boost_round=max_iterations, verbose_eval=eval_round, evals_result=eval_results)\n",
    "\n",
    "gc.collect()\n",
    "print_log('Done training.')"
   ]
  },
  {
   "cell_type": "code",
   "execution_count": 12,
   "metadata": {
    "execution": {
     "iopub.execute_input": "2020-12-21T14:26:09.694748Z",
     "iopub.status.busy": "2020-12-21T14:26:09.694019Z",
     "iopub.status.idle": "2020-12-21T14:26:10.353627Z",
     "shell.execute_reply": "2020-12-21T14:26:10.353056Z"
    },
    "papermill": {
     "duration": 0.717461,
     "end_time": "2020-12-21T14:26:10.353748",
     "exception": false,
     "start_time": "2020-12-21T14:26:09.636287",
     "status": "completed"
    },
    "tags": []
   },
   "outputs": [
    {
     "name": "stderr",
     "output_type": "stream",
     "text": [
      "/opt/conda/lib/python3.7/site-packages/pandas/core/series.py:4536: SettingWithCopyWarning: \n",
      "A value is trying to be set on a copy of a slice from a DataFrame\n",
      "\n",
      "See the caveats in the documentation: https://pandas.pydata.org/pandas-docs/stable/user_guide/indexing.html#returning-a-view-versus-a-copy\n",
      "  downcast=downcast,\n",
      "/opt/conda/lib/python3.7/site-packages/pandas/core/series.py:4536: SettingWithCopyWarning: \n",
      "A value is trying to be set on a copy of a slice from a DataFrame\n",
      "\n",
      "See the caveats in the documentation: https://pandas.pydata.org/pandas-docs/stable/user_guide/indexing.html#returning-a-view-versus-a-copy\n",
      "  downcast=downcast,\n",
      "/opt/conda/lib/python3.7/site-packages/pandas/core/series.py:4536: SettingWithCopyWarning: \n",
      "A value is trying to be set on a copy of a slice from a DataFrame\n",
      "\n",
      "See the caveats in the documentation: https://pandas.pydata.org/pandas-docs/stable/user_guide/indexing.html#returning-a-view-versus-a-copy\n",
      "  downcast=downcast,\n"
     ]
    },
    {
     "name": "stdout",
     "output_type": "stream",
     "text": [
      "Done with inference.\n"
     ]
    }
   ],
   "source": [
    "createSubmission(model)\n",
    "    \n",
    "gc.collect()    \n",
    "print_log('Done with inference.')"
   ]
  },
  {
   "cell_type": "code",
   "execution_count": 13,
   "metadata": {
    "execution": {
     "iopub.execute_input": "2020-12-21T14:26:10.466188Z",
     "iopub.status.busy": "2020-12-21T14:26:10.465452Z",
     "iopub.status.idle": "2020-12-21T14:26:12.749393Z",
     "shell.execute_reply": "2020-12-21T14:26:12.751603Z"
    },
    "papermill": {
     "duration": 2.349664,
     "end_time": "2020-12-21T14:26:12.753215",
     "exception": false,
     "start_time": "2020-12-21T14:26:10.403551",
     "status": "completed"
    },
    "tags": []
   },
   "outputs": [
    {
     "data": {
      "image/png": "[encoded data removed]",
      "text/plain": [
       "<Figure size 432x288 with 1 Axes>"
      ]
     },
     "metadata": {
      "needs_background": "light"
     },
     "output_type": "display_data"
    },
    {
     "data": {
      "image/png": "[encoded data removed]",
      "text/plain": [
       "<Figure size 432x288 with 1 Axes>"
      ]
     },
     "metadata": {
      "needs_background": "light"
     },
     "output_type": "display_data"
    },
    {
     "data": {
      "image/png": "[encoded data removed]",
      "text/plain": [
       "<Figure size 432x288 with 1 Axes>"
      ]
     },
     "metadata": {
      "needs_background": "light"
     },
     "output_type": "display_data"
    },
    {
     "data": {
      "image/png": "[encoded data removed]",
      "text/plain": [
       "<Figure size 432x288 with 1 Axes>"
      ]
     },
     "metadata": {
      "needs_background": "light"
     },
     "output_type": "display_data"
    },
    {
     "name": "stdout",
     "output_type": "stream",
     "text": [
      "Done all.\n"
     ]
    }
   ],
   "source": [
    "plot_metrics(model, eval_results)\n",
    "\n",
    "gc.collect()\n",
    "print_log('Done all.')"
   ]
  }
 ],
 "metadata": {
  "kernelspec": {
   "display_name": "Python 3",
   "language": "python",
   "name": "python3"
  },
  "language_info": {
   "codemirror_mode": {
    "name": "ipython",
    "version": 3
   },
   "file_extension": ".py",
   "mimetype": "text/x-python",
   "name": "python",
   "nbconvert_exporter": "python",
   "pygments_lexer": "ipython3",
   "version": "3.7.6"
  },
  "papermill": {
   "duration": 16673.053902,
   "end_time": "2020-12-21T14:26:13.058255",
   "environment_variables": {},
   "exception": null,
   "input_path": "__notebook__.ipynb",
   "output_path": "__notebook__.ipynb",
   "parameters": {},
   "start_time": "2020-12-21T09:48:20.004353",
   "version": "2.1.0"
  }
 },
 "nbformat": 4,
 "nbformat_minor": 4
}
