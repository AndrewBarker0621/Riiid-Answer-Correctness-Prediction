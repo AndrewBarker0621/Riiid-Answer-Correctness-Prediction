{
 "cells": [
  {
   "cell_type": "markdown",
   "metadata": {
    "papermill": {
     "duration": 0.021886,
     "end_time": "2020-12-21T09:46:22.043819",
     "exception": false,
     "start_time": "2020-12-21T09:46:22.021933",
     "status": "completed"
    },
    "tags": []
   },
   "source": [
    "The following notebooks help in creating ensemble of LightGBM and Catboost however I didn't seem to find massive improvement , PUBLIC LB:0.758\n",
    "References \n",
    "https://www.kaggle.com/shinomoriaoshi/riiid-catboost-baseline\n",
    "https://www.kaggle.com/shoheiazuma/riiid-lgbm-starter"
   ]
  },
  {
   "cell_type": "markdown",
   "metadata": {
    "papermill": {
     "duration": 0.018106,
     "end_time": "2020-12-21T09:46:22.081921",
     "exception": false,
     "start_time": "2020-12-21T09:46:22.063815",
     "status": "completed"
    },
    "tags": []
   },
   "source": [
    "# Use the package 'datatable' for fast handling"
   ]
  },
  {
   "cell_type": "code",
   "execution_count": 1,
   "metadata": {
    "_cell_guid": "b1076dfc-b9ad-4769-8c92-a6c4dae69d19",
    "_uuid": "8f2839f25d086af736a60e9eeb907d3b93b6e0e5",
    "execution": {
     "iopub.execute_input": "2020-12-21T09:46:22.126858Z",
     "iopub.status.busy": "2020-12-21T09:46:22.126098Z",
     "iopub.status.idle": "2020-12-21T09:46:52.664505Z",
     "shell.execute_reply": "2020-12-21T09:46:52.663733Z"
    },
    "papermill": {
     "duration": 30.564121,
     "end_time": "2020-12-21T09:46:52.664640",
     "exception": false,
     "start_time": "2020-12-21T09:46:22.100519",
     "status": "completed"
    },
    "tags": []
   },
   "outputs": [],
   "source": [
    "!pip install ../input/python-datatable/datatable-0.11.0-cp37-cp37m-manylinux2010_x86_64.whl > /dev/null 2>&1"
   ]
  },
  {
   "cell_type": "markdown",
   "metadata": {
    "papermill": {
     "duration": 0.019034,
     "end_time": "2020-12-21T09:46:52.703146",
     "exception": false,
     "start_time": "2020-12-21T09:46:52.684112",
     "status": "completed"
    },
    "tags": []
   },
   "source": [
    "# Necessary packages"
   ]
  },
  {
   "cell_type": "code",
   "execution_count": 2,
   "metadata": {
    "_cell_guid": "79c7e3d0-c299-4dcb-8224-4455121ee9b0",
    "_uuid": "d629ff2d2480ee46fbb7e2d37f6b5fab8052498a",
    "execution": {
     "iopub.execute_input": "2020-12-21T09:46:52.747745Z",
     "iopub.status.busy": "2020-12-21T09:46:52.747061Z",
     "iopub.status.idle": "2020-12-21T09:46:54.985214Z",
     "shell.execute_reply": "2020-12-21T09:46:54.984628Z"
    },
    "papermill": {
     "duration": 2.263555,
     "end_time": "2020-12-21T09:46:54.985340",
     "exception": false,
     "start_time": "2020-12-21T09:46:52.721785",
     "status": "completed"
    },
    "tags": []
   },
   "outputs": [
    {
     "data": {
      "text/html": [
       "<style type='text/css'>\n",
       ".datatable table.frame { margin-bottom: 0; }\n",
       ".datatable table.frame thead { border-bottom: none; }\n",
       ".datatable table.frame tr.coltypes td {  color: #FFFFFF;  line-height: 6px;  padding: 0 0.5em;}\n",
       ".datatable .bool    { background: #DDDD99; }\n",
       ".datatable .object  { background: #565656; }\n",
       ".datatable .int     { background: #5D9E5D; }\n",
       ".datatable .float   { background: #4040CC; }\n",
       ".datatable .str     { background: #CC4040; }\n",
       ".datatable .row_index {  background: var(--jp-border-color3);  border-right: 1px solid var(--jp-border-color0);  color: var(--jp-ui-font-color3);  font-size: 9px;}\n",
       ".datatable .frame tr.coltypes .row_index {  background: var(--jp-border-color0);}\n",
       ".datatable th:nth-child(2) { padding-left: 12px; }\n",
       ".datatable .hellipsis {  color: var(--jp-cell-editor-border-color);}\n",
       ".datatable .vellipsis {  background: var(--jp-layout-color0);  color: var(--jp-cell-editor-border-color);}\n",
       ".datatable .na {  color: var(--jp-cell-editor-border-color);  font-size: 80%;}\n",
       ".datatable .footer { font-size: 9px; }\n",
       ".datatable .frame_dimensions {  background: var(--jp-border-color3);  border-top: 1px solid var(--jp-border-color0);  color: var(--jp-ui-font-color3);  display: inline-block;  opacity: 0.6;  padding: 1px 10px 1px 5px;}\n",
       ".datatable .frame thead tr.colnames {  background-image: url('data:image/png;base64,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');  background-repeat: repeat-x;  background-size: 14px;  height: 28px;}\n",
       "</style>\n"
      ],
      "text/plain": [
       "<IPython.core.display.HTML object>"
      ]
     },
     "metadata": {},
     "output_type": "display_data"
    },
    {
     "data": {
      "text/plain": [
       "{'divide': 'warn', 'over': 'warn', 'under': 'ignore', 'invalid': 'warn'}"
      ]
     },
     "execution_count": 2,
     "metadata": {},
     "output_type": "execute_result"
    }
   ],
   "source": [
    "import numpy as np\n",
    "import pandas as pd\n",
    "from collections import defaultdict\n",
    "import datatable as dt\n",
    "import lightgbm as lgb\n",
    "from matplotlib import pyplot as plt\n",
    "import riiideducation\n",
    "import torch\n",
    "\n",
    "# Error handling, ignore all\n",
    "np.seterr(divide = 'ignore', invalid = 'ignore')"
   ]
  },
  {
   "cell_type": "markdown",
   "metadata": {
    "papermill": {
     "duration": 0.019387,
     "end_time": "2020-12-21T09:46:55.024941",
     "exception": false,
     "start_time": "2020-12-21T09:46:55.005554",
     "status": "completed"
    },
    "tags": []
   },
   "source": [
    "# Preprocessing"
   ]
  },
  {
   "cell_type": "markdown",
   "metadata": {
    "papermill": {
     "duration": 0.019199,
     "end_time": "2020-12-21T09:46:55.063817",
     "exception": false,
     "start_time": "2020-12-21T09:46:55.044618",
     "status": "completed"
    },
    "tags": []
   },
   "source": [
    "* Data config"
   ]
  },
  {
   "cell_type": "code",
   "execution_count": 3,
   "metadata": {
    "execution": {
     "iopub.execute_input": "2020-12-21T09:46:55.109717Z",
     "iopub.status.busy": "2020-12-21T09:46:55.108718Z",
     "iopub.status.idle": "2020-12-21T09:46:55.111355Z",
     "shell.execute_reply": "2020-12-21T09:46:55.110763Z"
    },
    "papermill": {
     "duration": 0.0279,
     "end_time": "2020-12-21T09:46:55.111464",
     "exception": false,
     "start_time": "2020-12-21T09:46:55.083564",
     "status": "completed"
    },
    "tags": []
   },
   "outputs": [],
   "source": [
    "data_types_dict = {\n",
    "    'user_id': 'int32', \n",
    "    'content_id': 'int16', \n",
    "    'answered_correctly': 'int8', \n",
    "    'prior_question_elapsed_time': 'float32', \n",
    "    'prior_question_had_explanation': 'bool'\n",
    "}\n",
    "\n",
    "target = 'answered_correctly'"
   ]
  },
  {
   "cell_type": "markdown",
   "metadata": {
    "papermill": {
     "duration": 0.019603,
     "end_time": "2020-12-21T09:46:55.150878",
     "exception": false,
     "start_time": "2020-12-21T09:46:55.131275",
     "status": "completed"
    },
    "tags": []
   },
   "source": [
    "* Import data"
   ]
  },
  {
   "cell_type": "code",
   "execution_count": 4,
   "metadata": {
    "execution": {
     "iopub.execute_input": "2020-12-21T09:46:55.197084Z",
     "iopub.status.busy": "2020-12-21T09:46:55.196402Z",
     "iopub.status.idle": "2020-12-21T09:48:32.038285Z",
     "shell.execute_reply": "2020-12-21T09:48:32.037630Z"
    },
    "papermill": {
     "duration": 96.867526,
     "end_time": "2020-12-21T09:48:32.038413",
     "exception": false,
     "start_time": "2020-12-21T09:46:55.170887",
     "status": "completed"
    },
    "tags": []
   },
   "outputs": [],
   "source": [
    "train_df = dt.fread('../input/riiid-test-answer-prediction/train.csv', columns = set(data_types_dict.keys())).to_pandas()"
   ]
  },
  {
   "cell_type": "markdown",
   "metadata": {
    "papermill": {
     "duration": 0.01945,
     "end_time": "2020-12-21T09:48:32.078679",
     "exception": false,
     "start_time": "2020-12-21T09:48:32.059229",
     "status": "completed"
    },
    "tags": []
   },
   "source": [
    "* Information of the training dataset"
   ]
  },
  {
   "cell_type": "code",
   "execution_count": 5,
   "metadata": {
    "execution": {
     "iopub.execute_input": "2020-12-21T09:48:32.136649Z",
     "iopub.status.busy": "2020-12-21T09:48:32.128550Z",
     "iopub.status.idle": "2020-12-21T09:48:57.675482Z",
     "shell.execute_reply": "2020-12-21T09:48:57.674895Z"
    },
    "papermill": {
     "duration": 25.576685,
     "end_time": "2020-12-21T09:48:57.675592",
     "exception": false,
     "start_time": "2020-12-21T09:48:32.098907",
     "status": "completed"
    },
    "tags": []
   },
   "outputs": [],
   "source": [
    "# Exclude lectures\n",
    "train_df = train_df[train_df[target] != -1].reset_index(drop = True, inplace = False)\n",
    "# Fill NaN values in the 'prior_question_had_explanation' columns\n",
    "train_df['prior_question_had_explanation'].fillna(False, inplace = True)\n",
    "# Set type\n",
    "train_df = train_df.astype(data_types_dict)"
   ]
  },
  {
   "cell_type": "markdown",
   "metadata": {
    "papermill": {
     "duration": 0.020021,
     "end_time": "2020-12-21T09:48:57.715856",
     "exception": false,
     "start_time": "2020-12-21T09:48:57.695835",
     "status": "completed"
    },
    "tags": []
   },
   "source": [
    "* Construct new features"
   ]
  },
  {
   "cell_type": "code",
   "execution_count": 6,
   "metadata": {
    "execution": {
     "iopub.execute_input": "2020-12-21T09:48:57.763455Z",
     "iopub.status.busy": "2020-12-21T09:48:57.762776Z",
     "iopub.status.idle": "2020-12-21T09:49:13.033126Z",
     "shell.execute_reply": "2020-12-21T09:49:13.031925Z"
    },
    "papermill": {
     "duration": 15.297356,
     "end_time": "2020-12-21T09:49:13.033262",
     "exception": false,
     "start_time": "2020-12-21T09:48:57.735906",
     "status": "completed"
    },
    "tags": []
   },
   "outputs": [],
   "source": [
    "# Answer for the previous questions of users\n",
    "train_df['lag'] = train_df.groupby('user_id')[target].shift()\n",
    "# For each user (groupby('user_id')), compute the cummulative number of correct answers and number answers in general\n",
    "cum = train_df.groupby('user_id')['lag'].agg(['cumsum', 'cumcount'])\n",
    "# User correctness (measure the users' learning progress)\n",
    "train_df['user_correctness'] = cum['cumsum'] / cum['cumcount']\n",
    "# Drop the 'lag' feature\n",
    "train_df.drop(columns = ['lag'], inplace = True)"
   ]
  },
  {
   "cell_type": "code",
   "execution_count": 7,
   "metadata": {
    "execution": {
     "iopub.execute_input": "2020-12-21T09:49:13.083347Z",
     "iopub.status.busy": "2020-12-21T09:49:13.082614Z",
     "iopub.status.idle": "2020-12-21T09:49:20.405473Z",
     "shell.execute_reply": "2020-12-21T09:49:20.404764Z"
    },
    "papermill": {
     "duration": 7.350401,
     "end_time": "2020-12-21T09:49:20.405592",
     "exception": false,
     "start_time": "2020-12-21T09:49:13.055191",
     "status": "completed"
    },
    "tags": []
   },
   "outputs": [],
   "source": [
    "# Overall correctness of users\n",
    "user_agg = train_df.groupby('user_id')[target].agg(['sum', 'count'])\n",
    "                                                                               \n",
    "# Overall difficulty of questions\n",
    "content_agg = train_df.groupby('content_id')[target].agg(['sum', 'count'])"
   ]
  },
  {
   "cell_type": "code",
   "execution_count": 8,
   "metadata": {
    "execution": {
     "iopub.execute_input": "2020-12-21T09:49:20.453184Z",
     "iopub.status.busy": "2020-12-21T09:49:20.452200Z",
     "iopub.status.idle": "2020-12-21T09:49:26.946930Z",
     "shell.execute_reply": "2020-12-21T09:49:26.946348Z"
    },
    "papermill": {
     "duration": 6.520779,
     "end_time": "2020-12-21T09:49:26.947057",
     "exception": false,
     "start_time": "2020-12-21T09:49:20.426278",
     "status": "completed"
    },
    "tags": []
   },
   "outputs": [],
   "source": [
    "# Take only 24 last observations of each user\n",
    "train_df = train_df.groupby('user_id').tail(24).reset_index(drop = True)"
   ]
  },
  {
   "cell_type": "code",
   "execution_count": 9,
   "metadata": {
    "execution": {
     "iopub.execute_input": "2020-12-21T09:49:27.004703Z",
     "iopub.status.busy": "2020-12-21T09:49:27.004003Z",
     "iopub.status.idle": "2020-12-21T09:49:27.016611Z",
     "shell.execute_reply": "2020-12-21T09:49:27.017228Z"
    },
    "papermill": {
     "duration": 0.049096,
     "end_time": "2020-12-21T09:49:27.017401",
     "exception": false,
     "start_time": "2020-12-21T09:49:26.968305",
     "status": "completed"
    },
    "tags": []
   },
   "outputs": [
    {
     "data": {
      "text/html": [
       "<div>\n",
       "<style scoped>\n",
       "    .dataframe tbody tr th:only-of-type {\n",
       "        vertical-align: middle;\n",
       "    }\n",
       "\n",
       "    .dataframe tbody tr th {\n",
       "        vertical-align: top;\n",
       "    }\n",
       "\n",
       "    .dataframe thead th {\n",
       "        text-align: right;\n",
       "    }\n",
       "</style>\n",
       "<table border=\"1\" class=\"dataframe\">\n",
       "  <thead>\n",
       "    <tr style=\"text-align: right;\">\n",
       "      <th></th>\n",
       "      <th>user_id</th>\n",
       "      <th>content_id</th>\n",
       "      <th>answered_correctly</th>\n",
       "      <th>prior_question_elapsed_time</th>\n",
       "      <th>prior_question_had_explanation</th>\n",
       "      <th>user_correctness</th>\n",
       "    </tr>\n",
       "  </thead>\n",
       "  <tbody>\n",
       "    <tr>\n",
       "      <th>0</th>\n",
       "      <td>115</td>\n",
       "      <td>45</td>\n",
       "      <td>0</td>\n",
       "      <td>19000.0</td>\n",
       "      <td>False</td>\n",
       "      <td>0.727273</td>\n",
       "    </tr>\n",
       "    <tr>\n",
       "      <th>1</th>\n",
       "      <td>115</td>\n",
       "      <td>185</td>\n",
       "      <td>0</td>\n",
       "      <td>21000.0</td>\n",
       "      <td>False</td>\n",
       "      <td>0.695652</td>\n",
       "    </tr>\n",
       "    <tr>\n",
       "      <th>2</th>\n",
       "      <td>115</td>\n",
       "      <td>55</td>\n",
       "      <td>1</td>\n",
       "      <td>22000.0</td>\n",
       "      <td>False</td>\n",
       "      <td>0.666667</td>\n",
       "    </tr>\n",
       "    <tr>\n",
       "      <th>3</th>\n",
       "      <td>115</td>\n",
       "      <td>7876</td>\n",
       "      <td>1</td>\n",
       "      <td>16000.0</td>\n",
       "      <td>False</td>\n",
       "      <td>0.680000</td>\n",
       "    </tr>\n",
       "    <tr>\n",
       "      <th>4</th>\n",
       "      <td>115</td>\n",
       "      <td>6</td>\n",
       "      <td>1</td>\n",
       "      <td>20000.0</td>\n",
       "      <td>False</td>\n",
       "      <td>0.692308</td>\n",
       "    </tr>\n",
       "    <tr>\n",
       "      <th>...</th>\n",
       "      <td>...</td>\n",
       "      <td>...</td>\n",
       "      <td>...</td>\n",
       "      <td>...</td>\n",
       "      <td>...</td>\n",
       "      <td>...</td>\n",
       "    </tr>\n",
       "    <tr>\n",
       "      <th>8897654</th>\n",
       "      <td>2147482888</td>\n",
       "      <td>3586</td>\n",
       "      <td>1</td>\n",
       "      <td>18000.0</td>\n",
       "      <td>True</td>\n",
       "      <td>0.500000</td>\n",
       "    </tr>\n",
       "    <tr>\n",
       "      <th>8897655</th>\n",
       "      <td>2147482888</td>\n",
       "      <td>6341</td>\n",
       "      <td>1</td>\n",
       "      <td>14000.0</td>\n",
       "      <td>True</td>\n",
       "      <td>0.521739</td>\n",
       "    </tr>\n",
       "    <tr>\n",
       "      <th>8897656</th>\n",
       "      <td>2147482888</td>\n",
       "      <td>4212</td>\n",
       "      <td>1</td>\n",
       "      <td>14000.0</td>\n",
       "      <td>True</td>\n",
       "      <td>0.541667</td>\n",
       "    </tr>\n",
       "    <tr>\n",
       "      <th>8897657</th>\n",
       "      <td>2147482888</td>\n",
       "      <td>6343</td>\n",
       "      <td>0</td>\n",
       "      <td>22000.0</td>\n",
       "      <td>True</td>\n",
       "      <td>0.560000</td>\n",
       "    </tr>\n",
       "    <tr>\n",
       "      <th>8897658</th>\n",
       "      <td>2147482888</td>\n",
       "      <td>7995</td>\n",
       "      <td>1</td>\n",
       "      <td>29000.0</td>\n",
       "      <td>True</td>\n",
       "      <td>0.538462</td>\n",
       "    </tr>\n",
       "  </tbody>\n",
       "</table>\n",
       "<p>8897659 rows × 6 columns</p>\n",
       "</div>"
      ],
      "text/plain": [
       "            user_id  content_id  answered_correctly  \\\n",
       "0               115          45                   0   \n",
       "1               115         185                   0   \n",
       "2               115          55                   1   \n",
       "3               115        7876                   1   \n",
       "4               115           6                   1   \n",
       "...             ...         ...                 ...   \n",
       "8897654  2147482888        3586                   1   \n",
       "8897655  2147482888        6341                   1   \n",
       "8897656  2147482888        4212                   1   \n",
       "8897657  2147482888        6343                   0   \n",
       "8897658  2147482888        7995                   1   \n",
       "\n",
       "         prior_question_elapsed_time  prior_question_had_explanation  \\\n",
       "0                            19000.0                           False   \n",
       "1                            21000.0                           False   \n",
       "2                            22000.0                           False   \n",
       "3                            16000.0                           False   \n",
       "4                            20000.0                           False   \n",
       "...                              ...                             ...   \n",
       "8897654                      18000.0                            True   \n",
       "8897655                      14000.0                            True   \n",
       "8897656                      14000.0                            True   \n",
       "8897657                      22000.0                            True   \n",
       "8897658                      29000.0                            True   \n",
       "\n",
       "         user_correctness  \n",
       "0                0.727273  \n",
       "1                0.695652  \n",
       "2                0.666667  \n",
       "3                0.680000  \n",
       "4                0.692308  \n",
       "...                   ...  \n",
       "8897654          0.500000  \n",
       "8897655          0.521739  \n",
       "8897656          0.541667  \n",
       "8897657          0.560000  \n",
       "8897658          0.538462  \n",
       "\n",
       "[8897659 rows x 6 columns]"
      ]
     },
     "execution_count": 9,
     "metadata": {},
     "output_type": "execute_result"
    }
   ],
   "source": [
    "train_df"
   ]
  },
  {
   "cell_type": "markdown",
   "metadata": {
    "papermill": {
     "duration": 0.023499,
     "end_time": "2020-12-21T09:49:27.065362",
     "exception": false,
     "start_time": "2020-12-21T09:49:27.041863",
     "status": "completed"
    },
    "tags": []
   },
   "source": [
    "* Question dataset comes into play"
   ]
  },
  {
   "cell_type": "code",
   "execution_count": 10,
   "metadata": {
    "execution": {
     "iopub.execute_input": "2020-12-21T09:49:27.116638Z",
     "iopub.status.busy": "2020-12-21T09:49:27.115975Z",
     "iopub.status.idle": "2020-12-21T09:49:28.743286Z",
     "shell.execute_reply": "2020-12-21T09:49:28.742608Z"
    },
    "papermill": {
     "duration": 1.654095,
     "end_time": "2020-12-21T09:49:28.743408",
     "exception": false,
     "start_time": "2020-12-21T09:49:27.089313",
     "status": "completed"
    },
    "tags": []
   },
   "outputs": [],
   "source": [
    "questions_df = pd.read_csv(\n",
    "    '../input/riiid-test-answer-prediction/questions.csv', \n",
    "    usecols = [0, 3],\n",
    "    dtype = {'question_id': 'int16', 'part': 'int8'}\n",
    ")\n",
    "train_df = pd.merge(train_df, questions_df, left_on = 'content_id', right_on = 'question_id', how = 'left')\n",
    "train_df.drop(columns = ['question_id'], inplace = True)"
   ]
  },
  {
   "cell_type": "code",
   "execution_count": 11,
   "metadata": {
    "execution": {
     "iopub.execute_input": "2020-12-21T09:49:28.794378Z",
     "iopub.status.busy": "2020-12-21T09:49:28.792902Z",
     "iopub.status.idle": "2020-12-21T09:49:29.075752Z",
     "shell.execute_reply": "2020-12-21T09:49:29.075183Z"
    },
    "papermill": {
     "duration": 0.311038,
     "end_time": "2020-12-21T09:49:29.075882",
     "exception": false,
     "start_time": "2020-12-21T09:49:28.764844",
     "status": "completed"
    },
    "tags": []
   },
   "outputs": [],
   "source": [
    "# How many questions have been answered in each content ID?\n",
    "train_df['content_count'] = train_df['content_id'].map(content_agg['count']).astype('int32')\n",
    "# How hard are questions in each content ID?\n",
    "train_df['content_id'] = train_df['content_id'].map(content_agg['sum'] / content_agg['count'])"
   ]
  },
  {
   "cell_type": "markdown",
   "metadata": {
    "papermill": {
     "duration": 0.021333,
     "end_time": "2020-12-21T09:49:29.118842",
     "exception": false,
     "start_time": "2020-12-21T09:49:29.097509",
     "status": "completed"
    },
    "tags": []
   },
   "source": [
    "# Extract the validation set"
   ]
  },
  {
   "cell_type": "code",
   "execution_count": 12,
   "metadata": {
    "execution": {
     "iopub.execute_input": "2020-12-21T09:49:29.168180Z",
     "iopub.status.busy": "2020-12-21T09:49:29.167499Z",
     "iopub.status.idle": "2020-12-21T09:49:32.153565Z",
     "shell.execute_reply": "2020-12-21T09:49:32.152958Z"
    },
    "papermill": {
     "duration": 3.013116,
     "end_time": "2020-12-21T09:49:32.153680",
     "exception": false,
     "start_time": "2020-12-21T09:49:29.140564",
     "status": "completed"
    },
    "tags": []
   },
   "outputs": [],
   "source": [
    "# Ratio is 6/24 = 25%\n",
    "valid_df = train_df.groupby('user_id').tail(6)\n",
    "train_df.drop(valid_df.index, inplace = True)"
   ]
  },
  {
   "cell_type": "markdown",
   "metadata": {
    "papermill": {
     "duration": 0.02182,
     "end_time": "2020-12-21T09:49:32.197854",
     "exception": false,
     "start_time": "2020-12-21T09:49:32.176034",
     "status": "completed"
    },
    "tags": []
   },
   "source": [
    "# Training"
   ]
  },
  {
   "cell_type": "markdown",
   "metadata": {
    "papermill": {
     "duration": 0.022218,
     "end_time": "2020-12-21T09:49:32.241904",
     "exception": false,
     "start_time": "2020-12-21T09:49:32.219686",
     "status": "completed"
    },
    "tags": []
   },
   "source": [
    "* Construct data"
   ]
  },
  {
   "cell_type": "code",
   "execution_count": 13,
   "metadata": {
    "execution": {
     "iopub.execute_input": "2020-12-21T09:49:32.295478Z",
     "iopub.status.busy": "2020-12-21T09:49:32.294749Z",
     "iopub.status.idle": "2020-12-21T09:49:32.298491Z",
     "shell.execute_reply": "2020-12-21T09:49:32.297832Z"
    },
    "papermill": {
     "duration": 0.034466,
     "end_time": "2020-12-21T09:49:32.298617",
     "exception": false,
     "start_time": "2020-12-21T09:49:32.264151",
     "status": "completed"
    },
    "tags": []
   },
   "outputs": [],
   "source": [
    "features = ['content_id', 'prior_question_elapsed_time', \n",
    "            'prior_question_had_explanation', 'user_correctness', \n",
    "            'part', 'content_count']\n",
    "\n",
    "params = {\n",
    "    'loss_function': 'Logloss',\n",
    "    'eval_metric': 'AUC',\n",
    "    'task_type': 'GPU' if torch.cuda.is_available() else 'CPU',\n",
    "    'grow_policy': 'Lossguide',\n",
    "    'iterations': 1000,#2500\n",
    "    'learning_rate': 4e-3,\n",
    "    'random_seed': 0,\n",
    "    'l2_leaf_reg': 1e-1,\n",
    "    'depth': 15,\n",
    "    'max_leaves': 13,\n",
    "    'border_count': 128,\n",
    "    'verbose': 50,\n",
    "}\n",
    "\n",
    "params1 = {\n",
    "    'objective': 'binary',\n",
    "    'seed': 42,\n",
    "    'metric': 'auc',\n",
    "    'learning_rate': 0.05,\n",
    "    'max_bin': 800,\n",
    "    'num_leaves': 85\n",
    "}"
   ]
  },
  {
   "cell_type": "code",
   "execution_count": 14,
   "metadata": {
    "execution": {
     "iopub.execute_input": "2020-12-21T09:49:32.468517Z",
     "iopub.status.busy": "2020-12-21T09:49:32.454250Z",
     "iopub.status.idle": "2020-12-21T10:49:36.034992Z",
     "shell.execute_reply": "2020-12-21T10:49:36.035727Z"
    },
    "papermill": {
     "duration": 3603.71532,
     "end_time": "2020-12-21T10:49:36.035979",
     "exception": false,
     "start_time": "2020-12-21T09:49:32.320659",
     "status": "completed"
    },
    "tags": []
   },
   "outputs": [
    {
     "name": "stdout",
     "output_type": "stream",
     "text": [
      "Training until validation scores don't improve for 50 rounds\n",
      "[50]\ttraining's auc: 0.751685\tvalid_1's auc: 0.734183\n",
      "[100]\ttraining's auc: 0.753122\tvalid_1's auc: 0.735811\n",
      "[150]\ttraining's auc: 0.753759\tvalid_1's auc: 0.736343\n",
      "[200]\ttraining's auc: 0.754086\tvalid_1's auc: 0.736519\n",
      "[250]\ttraining's auc: 0.754374\tvalid_1's auc: 0.736665\n",
      "[300]\ttraining's auc: 0.75464\tvalid_1's auc: 0.736793\n",
      "[350]\ttraining's auc: 0.754866\tvalid_1's auc: 0.736868\n",
      "[400]\ttraining's auc: 0.755093\tvalid_1's auc: 0.73695\n",
      "[450]\ttraining's auc: 0.75532\tvalid_1's auc: 0.737028\n",
      "[500]\ttraining's auc: 0.75554\tvalid_1's auc: 0.737096\n",
      "[550]\ttraining's auc: 0.755734\tvalid_1's auc: 0.73715\n",
      "[600]\ttraining's auc: 0.755934\tvalid_1's auc: 0.737194\n",
      "[650]\ttraining's auc: 0.756148\tvalid_1's auc: 0.737247\n",
      "[700]\ttraining's auc: 0.756349\tvalid_1's auc: 0.737281\n",
      "[750]\ttraining's auc: 0.756532\tvalid_1's auc: 0.737309\n",
      "[800]\ttraining's auc: 0.75671\tvalid_1's auc: 0.737333\n",
      "[850]\ttraining's auc: 0.756908\tvalid_1's auc: 0.737361\n",
      "[900]\ttraining's auc: 0.757085\tvalid_1's auc: 0.737375\n",
      "[950]\ttraining's auc: 0.757251\tvalid_1's auc: 0.737393\n",
      "[1000]\ttraining's auc: 0.75742\tvalid_1's auc: 0.737411\n",
      "[1050]\ttraining's auc: 0.757605\tvalid_1's auc: 0.73744\n",
      "[1100]\ttraining's auc: 0.757754\tvalid_1's auc: 0.737449\n",
      "[1150]\ttraining's auc: 0.757897\tvalid_1's auc: 0.73745\n",
      "[1200]\ttraining's auc: 0.758073\tvalid_1's auc: 0.737461\n",
      "[1250]\ttraining's auc: 0.758225\tvalid_1's auc: 0.737473\n",
      "[1300]\ttraining's auc: 0.758418\tvalid_1's auc: 0.737497\n",
      "[1350]\ttraining's auc: 0.758588\tvalid_1's auc: 0.737507\n",
      "[1400]\ttraining's auc: 0.75875\tvalid_1's auc: 0.737518\n",
      "[1450]\ttraining's auc: 0.758919\tvalid_1's auc: 0.737535\n",
      "[1500]\ttraining's auc: 0.759084\tvalid_1's auc: 0.737553\n",
      "[1550]\ttraining's auc: 0.75924\tvalid_1's auc: 0.737556\n",
      "[1600]\ttraining's auc: 0.759395\tvalid_1's auc: 0.737562\n",
      "[1650]\ttraining's auc: 0.75956\tvalid_1's auc: 0.737577\n",
      "[1700]\ttraining's auc: 0.759712\tvalid_1's auc: 0.73758\n",
      "[1750]\ttraining's auc: 0.759885\tvalid_1's auc: 0.737599\n",
      "[1800]\ttraining's auc: 0.760043\tvalid_1's auc: 0.737607\n",
      "Early stopping, best iteration is:\n",
      "[1795]\ttraining's auc: 0.76003\tvalid_1's auc: 0.737608\n"
     ]
    },
    {
     "data": {
      "image/png": "[encoded data removed]",
      "text/plain": [
       "<Figure size 432x288 with 1 Axes>"
      ]
     },
     "metadata": {
      "needs_background": "light"
     },
     "output_type": "display_data"
    }
   ],
   "source": [
    "tr_data = lgb.Dataset(train_df[features], label=train_df[target])\n",
    "va_data = lgb.Dataset(valid_df[features], label=valid_df[target])\n",
    "\n",
    "model1 = lgb.train(\n",
    "    params1, \n",
    "    tr_data, \n",
    "    num_boost_round=10000,\n",
    "    valid_sets=[tr_data, va_data], \n",
    "    early_stopping_rounds=50,\n",
    "    verbose_eval=50\n",
    ")\n",
    "\n",
    "# model.save_model(f'model.txt')\n",
    "lgb.plot_importance(model1, importance_type='gain')\n",
    "plt.show()"
   ]
  },
  {
   "cell_type": "code",
   "execution_count": 15,
   "metadata": {
    "execution": {
     "iopub.execute_input": "2020-12-21T10:49:36.121691Z",
     "iopub.status.busy": "2020-12-21T10:49:36.120512Z",
     "iopub.status.idle": "2020-12-21T10:49:40.839123Z",
     "shell.execute_reply": "2020-12-21T10:49:40.838351Z"
    },
    "papermill": {
     "duration": 4.762863,
     "end_time": "2020-12-21T10:49:40.839241",
     "exception": false,
     "start_time": "2020-12-21T10:49:36.076378",
     "status": "completed"
    },
    "tags": []
   },
   "outputs": [],
   "source": [
    "from catboost import CatBoostClassifier, Pool\n",
    "\n",
    "# Training and validating data\n",
    "train_set = Pool(train_df[features], label = train_df[target])\n",
    "val_set = Pool(valid_df[features], label = valid_df[target])"
   ]
  },
  {
   "cell_type": "code",
   "execution_count": 16,
   "metadata": {
    "execution": {
     "iopub.execute_input": "2020-12-21T10:49:40.927546Z",
     "iopub.status.busy": "2020-12-21T10:49:40.926585Z",
     "iopub.status.idle": "2020-12-21T13:00:42.483384Z",
     "shell.execute_reply": "2020-12-21T13:00:42.482761Z"
    },
    "papermill": {
     "duration": 7861.605788,
     "end_time": "2020-12-21T13:00:42.483502",
     "exception": false,
     "start_time": "2020-12-21T10:49:40.877714",
     "status": "completed"
    },
    "tags": []
   },
   "outputs": [
    {
     "name": "stdout",
     "output_type": "stream",
     "text": [
      "0:\ttest: 0.6986691\tbest: 0.6986691 (0)\ttotal: 8.62s\tremaining: 2h 23m 29s\n",
      "50:\ttest: 0.7178314\tbest: 0.7178314 (50)\ttotal: 6m 23s\tremaining: 1h 58m 47s\n",
      "100:\ttest: 0.7192818\tbest: 0.7192818 (100)\ttotal: 12m 36s\tremaining: 1h 52m 16s\n",
      "150:\ttest: 0.7205544\tbest: 0.7205544 (150)\ttotal: 18m 55s\tremaining: 1h 46m 24s\n",
      "200:\ttest: 0.7215081\tbest: 0.7215091 (199)\ttotal: 25m 15s\tremaining: 1h 40m 25s\n",
      "250:\ttest: 0.7225292\tbest: 0.7225292 (250)\ttotal: 31m 33s\tremaining: 1h 34m 11s\n",
      "300:\ttest: 0.7233748\tbest: 0.7233748 (300)\ttotal: 37m 59s\tremaining: 1h 28m 12s\n",
      "350:\ttest: 0.7241105\tbest: 0.7241105 (350)\ttotal: 44m 21s\tremaining: 1h 22m 1s\n",
      "400:\ttest: 0.7247828\tbest: 0.7247828 (400)\ttotal: 50m 46s\tremaining: 1h 15m 51s\n",
      "450:\ttest: 0.7254445\tbest: 0.7254445 (450)\ttotal: 57m 15s\tremaining: 1h 9m 42s\n",
      "500:\ttest: 0.7260955\tbest: 0.7260955 (500)\ttotal: 1h 3m 41s\tremaining: 1h 3m 26s\n",
      "550:\ttest: 0.7266996\tbest: 0.7266996 (550)\ttotal: 1h 10m 19s\tremaining: 57m 18s\n",
      "600:\ttest: 0.7273183\tbest: 0.7273183 (600)\ttotal: 1h 16m 50s\tremaining: 51m 1s\n",
      "650:\ttest: 0.7279516\tbest: 0.7279516 (650)\ttotal: 1h 23m 32s\tremaining: 44m 46s\n",
      "700:\ttest: 0.7285004\tbest: 0.7285004 (700)\ttotal: 1h 30m 28s\tremaining: 38m 35s\n",
      "750:\ttest: 0.7289777\tbest: 0.7289777 (750)\ttotal: 1h 37m 27s\tremaining: 32m 18s\n",
      "800:\ttest: 0.7294190\tbest: 0.7294190 (800)\ttotal: 1h 44m 21s\tremaining: 25m 55s\n",
      "850:\ttest: 0.7298009\tbest: 0.7298009 (850)\ttotal: 1h 51m 7s\tremaining: 19m 27s\n",
      "900:\ttest: 0.7301244\tbest: 0.7301244 (900)\ttotal: 1h 57m 51s\tremaining: 12m 56s\n",
      "950:\ttest: 0.7304364\tbest: 0.7304364 (950)\ttotal: 2h 4m 29s\tremaining: 6m 24s\n",
      "999:\ttest: 0.7307146\tbest: 0.7307146 (999)\ttotal: 2h 10m 58s\tremaining: 0us\n",
      "\n",
      "bestTest = 0.7307145871\n",
      "bestIteration = 999\n",
      "\n"
     ]
    },
    {
     "data": {
      "text/plain": [
       "<catboost.core.CatBoostClassifier at 0x7f4fa48dcb90>"
      ]
     },
     "execution_count": 16,
     "metadata": {},
     "output_type": "execute_result"
    }
   ],
   "source": [
    "# Model definition\n",
    "model = CatBoostClassifier(**params)\n",
    "\n",
    "# Fitting\n",
    "model.fit(train_set, eval_set = val_set, use_best_model = True)"
   ]
  },
  {
   "cell_type": "markdown",
   "metadata": {
    "papermill": {
     "duration": 0.050754,
     "end_time": "2020-12-21T13:00:42.578988",
     "exception": false,
     "start_time": "2020-12-21T13:00:42.528234",
     "status": "completed"
    },
    "tags": []
   },
   "source": [
    "# Inference"
   ]
  },
  {
   "cell_type": "code",
   "execution_count": 17,
   "metadata": {
    "execution": {
     "iopub.execute_input": "2020-12-21T13:00:42.674408Z",
     "iopub.status.busy": "2020-12-21T13:00:42.673667Z",
     "iopub.status.idle": "2020-12-21T13:00:43.185255Z",
     "shell.execute_reply": "2020-12-21T13:00:43.184683Z"
    },
    "papermill": {
     "duration": 0.562793,
     "end_time": "2020-12-21T13:00:43.185383",
     "exception": false,
     "start_time": "2020-12-21T13:00:42.622590",
     "status": "completed"
    },
    "tags": []
   },
   "outputs": [],
   "source": [
    "user_sum_dict = user_agg['sum'].astype('int16').to_dict(defaultdict(int))\n",
    "user_count_dict = user_agg['count'].astype('int16').to_dict(defaultdict(int))\n",
    "content_sum_dict = content_agg['sum'].astype('int32').to_dict(defaultdict(int))\n",
    "content_count_dict = content_agg['count'].astype('int32').to_dict(defaultdict(int))"
   ]
  },
  {
   "cell_type": "code",
   "execution_count": 18,
   "metadata": {
    "execution": {
     "iopub.execute_input": "2020-12-21T13:00:43.279153Z",
     "iopub.status.busy": "2020-12-21T13:00:43.278322Z",
     "iopub.status.idle": "2020-12-21T13:00:43.282133Z",
     "shell.execute_reply": "2020-12-21T13:00:43.281586Z"
    },
    "papermill": {
     "duration": 0.053129,
     "end_time": "2020-12-21T13:00:43.282254",
     "exception": false,
     "start_time": "2020-12-21T13:00:43.229125",
     "status": "completed"
    },
    "tags": []
   },
   "outputs": [],
   "source": [
    "try:\n",
    "    env = riiideducation.make_env()\n",
    "except:\n",
    "    pass\n",
    "iter_test = env.iter_test()\n",
    "prior_test_df = None"
   ]
  },
  {
   "cell_type": "code",
   "execution_count": 19,
   "metadata": {
    "execution": {
     "iopub.execute_input": "2020-12-21T13:00:43.394070Z",
     "iopub.status.busy": "2020-12-21T13:00:43.388951Z",
     "iopub.status.idle": "2020-12-21T13:00:44.088187Z",
     "shell.execute_reply": "2020-12-21T13:00:44.087497Z"
    },
    "papermill": {
     "duration": 0.762128,
     "end_time": "2020-12-21T13:00:44.088303",
     "exception": false,
     "start_time": "2020-12-21T13:00:43.326175",
     "status": "completed"
    },
    "tags": []
   },
   "outputs": [
    {
     "name": "stdout",
     "output_type": "stream",
     "text": [
      "CPU times: user 564 ms, sys: 57.8 ms, total: 622 ms\n",
      "Wall time: 690 ms\n"
     ]
    }
   ],
   "source": [
    "%%time\n",
    "\n",
    "for (test_df, sample_prediction_df) in iter_test:\n",
    "    if prior_test_df is not None:\n",
    "        prior_test_df[target] = eval(test_df['prior_group_answers_correct'].iloc[0])\n",
    "        prior_test_df = prior_test_df[prior_test_df[target] != -1].reset_index(drop = True)\n",
    "        \n",
    "        user_ids = prior_test_df['user_id'].values\n",
    "        content_ids = prior_test_df['content_id'].values\n",
    "        targets = prior_test_df[target].values\n",
    "        \n",
    "        for user_id, content_id, answered_correctly in zip(user_ids, content_ids, targets):\n",
    "            user_sum_dict[user_id] += answered_correctly\n",
    "            user_count_dict[user_id] += 1\n",
    "            content_sum_dict[content_id] += answered_correctly\n",
    "            content_count_dict[content_id] += 1\n",
    "\n",
    "    prior_test_df = test_df.copy()\n",
    "    \n",
    "    test_df = test_df[test_df['content_type_id'] == 0].reset_index(drop = True)\n",
    "    test_df = pd.merge(test_df, questions_df, left_on = 'content_id', right_on = 'question_id', how = 'left')\n",
    "    test_df['prior_question_had_explanation'] = test_df['prior_question_had_explanation'].fillna(False).astype('bool')    \n",
    "    \n",
    "    user_sum = np.zeros(len(test_df), dtype = np.int16)\n",
    "    user_count = np.zeros(len(test_df), dtype = np.int16)\n",
    "    content_sum = np.zeros(len(test_df), dtype = np.int32)\n",
    "    content_count = np.zeros(len(test_df), dtype = np.int32)\n",
    "    \n",
    "    for i, (user_id, content_id) in enumerate(zip(test_df['user_id'].values, test_df['content_id'].values)):\n",
    "        user_sum[i] = user_sum_dict[user_id]\n",
    "        user_count[i] = user_count_dict[user_id]\n",
    "        content_sum[i] = content_sum_dict[content_id]\n",
    "        content_count[i] = content_count_dict[content_id]\n",
    "\n",
    "    test_df['user_correctness'] = user_sum / user_count\n",
    "    test_df['content_count'] = content_count\n",
    "    test_df['content_id'] = content_sum / content_count\n",
    "       \n",
    "    test_df[target] = np.average([\n",
    "        model.predict_proba(test_df[features].values)[:,1],\n",
    "        model1.predict(test_df[features])\n",
    "    ], weights=[0.49934,0.50066], axis=0)\n",
    "    env.predict(test_df[['row_id', target]])"
   ]
  }
 ],
 "metadata": {
  "kernelspec": {
   "display_name": "Python 3",
   "language": "python",
   "name": "python3"
  },
  "language_info": {
   "codemirror_mode": {
    "name": "ipython",
    "version": 3
   },
   "file_extension": ".py",
   "mimetype": "text/x-python",
   "name": "python",
   "nbconvert_exporter": "python",
   "pygments_lexer": "ipython3",
   "version": "3.7.6"
  },
  "papermill": {
   "duration": 11667.799741,
   "end_time": "2020-12-21T13:00:44.443408",
   "environment_variables": {},
   "exception": null,
   "input_path": "__notebook__.ipynb",
   "output_path": "__notebook__.ipynb",
   "parameters": {},
   "start_time": "2020-12-21T09:46:16.643667",
   "version": "2.1.0"
  }
 },
 "nbformat": 4,
 "nbformat_minor": 4
}
